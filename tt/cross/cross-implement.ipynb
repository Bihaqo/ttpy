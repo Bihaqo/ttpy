{
 "metadata": {
  "name": "",
  "signature": "sha256:80252b95090c44586ddc4aea5b8360f4a066d9a3d99395bedb4e84d8f6f19ab5"
 },
 "nbformat": 3,
 "nbformat_minor": 0,
 "worksheets": [
  {
   "cells": [
    {
     "cell_type": "code",
     "collapsed": false,
     "input": [
      "#Basic code\n",
      "import numpy as np\n",
      "from numpy.linalg import qr\n",
      "import sys\n",
      "sys.path.append(\"/Users/ivan/work/python/ttpy/\") \n",
      "import tt\n",
      "from tt.maxvol import maxvol\n",
      "\"\"\" There are quantitites associated with edges; \n",
      "    There are quantitites associated with nodes; \n",
      "\"\"\"\n",
      "def reshape(a, sz):\n",
      "    return np.reshape(a, sz, order = 'F')\n",
      "\n",
      "def mkron(a, b):\n",
      "    return np.kron(a, b)\n",
      "\n",
      "\n",
      "class node:\n",
      "    def __init__(self):\n",
      "        self.edges = [None for i in xrange(2)]\n",
      "        \n",
      "    \n",
      "    \"\"\" Here we put in typical recipies for what we can do with a node \"\"\"\n",
      "    \n",
      "    @staticmethod\n",
      "    def left_qr_update(nd):\n",
      "        cr = nd.core.copy()\n",
      "        r1, n1, r2 = cr.shape\n",
      "        cr = reshape(cr, (r1, n1 * r2))\n",
      "        cr = np.dot(nd.edges[0].R, cr)\n",
      "        r1 = cr.shape[0]\n",
      "        cr = reshape(cr, (r1 * n1, r2))\n",
      "        q, R = qr(cr)\n",
      "        nd.core = reshape(q, (r1, n1, r2)).copy()\n",
      "        nd.edges[1].R = R.copy()\n",
      "    \n",
      "class edge:\n",
      "    def __init__(self):\n",
      "        self.nodes = [None for i in xrange(2)]\n",
      "\n",
      "    \n",
      "    \"\"\" Here we put in typical recipies for what we can do with an edge \"\"\"\n",
      "    @staticmethod\n",
      "    def init_qr_boundary(e):\n",
      "        e.R = np.ones((1, 1))\n",
      "\n",
      "\n",
      "\n",
      "            \n",
      "    \n",
      "class tt_as_tree:\n",
      "    def __init__(self, d, node_type, edge_type, init_boundary = None):\n",
      "        self.d = d\n",
      "        self.nodes = [node_type() for i in xrange(d)]\n",
      "        self.edges = [edge_type() for i in xrange(d + 1)]\n",
      "        #  None - N - N - N - None\n",
      "        for i in xrange(d):\n",
      "            self.nodes[i].edges[0] = self.edges[i]\n",
      "            self.nodes[i].edges[1] = self.edges[i + 1]\n",
      "        \n",
      "        if init_boundary is not None:\n",
      "            init_boundary(self.edges[0])\n",
      "            init_boundary(self.edges[d])\n",
      "        \n",
      "        for i in xrange(d - 1):\n",
      "            self.edges[i].nodes[1] = self.nodes[i]\n",
      "            self.edges[i + 1].nodes[0] = self.nodes[i]\n",
      "        \n",
      "        self.edges[0].nodes[0] = None\n",
      "        self.edges[d].nodes[1] = None\n",
      "        \n",
      "    @staticmethod\n",
      "    def from_tt(b, *args):\n",
      "        c = tt_as_tree(b.d, *args)\n",
      "        for i in xrange(b.d):\n",
      "            c.nodes[i].core = b.core[b.ps[i] - 1:b.ps[i + 1] - 1].reshape(b.r[i], b.n[i], b.r[i + 1]).copy()\n",
      "        return c\n",
      "\n",
      "    def lr_sweep(self, node_update, edge_update=None):\n",
      "        for i in xrange(self.d):\n",
      "            node_update(self.nodes[i])\n",
      "            if edge_update is not None:\n",
      "                edge_update(self.edges[i + 1])\n",
      "\n",
      "    def to_tt(self):\n",
      "        core = [self.nodes[i].core for i in xrange(self.d)]\n",
      "        return tt.tensor.from_list(core)\n",
      "\n",
      "\n",
      "def left_qr_update(nd):\n",
      "    cr = nd.core.copy()\n",
      "    r1, n1, r2 = cr.shape\n",
      "    cr = reshape(cr, (r1, n1 * r2))\n",
      "    cr = np.dot(nd.edges[0].R, cr)\n",
      "    r1 = cr.shape[0]\n",
      "    cr = reshape(cr, (r1 * n1, r2))\n",
      "    q, R = qr(cr)\n",
      "    nd.core = reshape(q, (r1, n1, r2)).copy()\n",
      "    nd.edges[1].R = R.copy()\n",
      "\n",
      "def left_qr(R, Y):\n",
      "    r1, n, m, r2 = Y.shape\n",
      "    r1 = R.shape[1]\n",
      "    Y = np.dot(R, reshape(Y, (r1, -1)))\n",
      "    r1 = Y.shape[0]\n",
      "    Y = reshape(Y, (r1 * n * m, r2))\n",
      "    Y, R_new = np.linalg.qr(Y)\n",
      "    Y = reshape(Y, (r1, n, m, -1))\n",
      "    return Y, R_new\n",
      "\n",
      "\n",
      "def right_qr(nd):\n",
      "    Y = nd.Ycore\n",
      "    R = nd.edges[1].R\n",
      "    r1, n, m, r2 = Y.shape\n",
      "    r2 = R.shape[0]\n",
      "    Y = np.dot(reshape(Y, (-1, r2)), R)\n",
      "    r2 = Y.shape[1]\n",
      "    Y = reshape(Y, (r1, n * m * r2))\n",
      "    Y = Y.T #Y is n m r2 x r1\n",
      "    Y, R_new = np.linalg.qr(Y) # \n",
      "    Y = reshape(Y, (n, m, r2, -1))\n",
      "    Y = np.transpose(Y, (3, 0, 1, 2))\n",
      "    R_new = R_new.T\n",
      "    nd.Ycore = Y.copy()\n",
      "    nd.edges[0].R = R_new.copy()\n",
      "\n",
      "\n",
      "def right_R(Y, R):\n",
      "    r1, n, m, r2 = Y.shape\n",
      "    r2 = R.shape[0]\n",
      "    Y = np.dot(reshape(Y, (-1, r2)), R)\n",
      "    Y = reshape(Y, (r1, n, m, -1))\n",
      "    return Y\n",
      "\n",
      "\n",
      "def left_R(nd):\n",
      "    Y = nd.Ycore\n",
      "    R = nd.edges[0].R\n",
      "    r1, n, m, r2 = Y.shape\n",
      "    r1 = R.shape[1]\n",
      "    Y = np.dot(R, reshape(Y, (r1, -1)))\n",
      "    Y = reshape(Y, (-1, n, m, r2))\n",
      "    nd.Ycore = Y\n",
      "\n",
      "\n",
      "def left_qr(nd):\n",
      "    Y = nd.Ycore\n",
      "    r1, n, m, r2 = Y.shape\n",
      "    Y = reshape(Y, (r1 * n * m, r2))\n",
      "    Y, R_new = np.linalg.qr(Y)\n",
      "    Y = reshape(Y, (r1, n, m, -1))\n",
      "    nd.Ycore = Y\n",
      "    nd.edges[1].R = R_new.copy()\n",
      "\n",
      "\n",
      "\n",
      "\n",
      "def init_alg(fun, x0):\n",
      "    d = x0.d\n",
      "    c = tt_as_tree(d, node, edge)\n",
      "    x1 = tt.tensor.to_list(x0)\n",
      "    c.fun = fun #Save the function\n",
      "    for i in xrange(d):\n",
      "        c.nodes[i].ucore = x1[i].copy()\n",
      "        c.nodes[i].vcore = x1[i].copy()\n",
      "    for i in xrange(d+1):\n",
      "        c.edges[i].Ru = []\n",
      "        c.edges[i].Rv = []\n",
      "    \n",
      "    c.edges[0].Ru = np.ones((1, 1))\n",
      "    c.edges[d].Rv = np.ones((1, 1))\n",
      "    c.edges[0].ind_left = np.empty((1, 0), dtype=np.int32)\n",
      "    c.edges[d].ind_right = np.empty((1, 0), dtype=np.int32)\n",
      "    return c\n",
      "\n",
      "\n",
      "\n",
      "def lr_sweep(c):\n",
      "    d = c.d\n",
      "    for i in xrange(d - 1):\n",
      "        ##Put the R inside\n",
      "        nd = c.nodes[i]\n",
      "        pass\n"
     ],
     "language": "python",
     "metadata": {
      "code_folding": [
       0
      ]
     },
     "outputs": [],
     "prompt_number": 193
    },
    {
     "cell_type": "code",
     "collapsed": false,
     "input": [
      "#Utility function\n",
      "def index_merge(i1, i2, i3):\n",
      "    #Either i1 or i3 can be empty\n",
      "    if i1 is not []:\n",
      "        r1 = i1.shape[0]\n",
      "    else:\n",
      "        r1 = 1\n",
      "    r2 = i2.shape[0]\n",
      "    if i1 is not []:\n",
      "        r3 = i3.shape[0]\n",
      "    else:\n",
      "        r3 = 1\n",
      "    w1 = mkron(np.ones((r3 * r2, 1), dtype=np.int32), i1) #For some weird reasons, mkron(a, []) gives [],\n",
      "                                                          #while mkron([], a) gives expection\n",
      "    try: \n",
      "        w2 = mkron(i3, np.ones((r1 * r2, 1), dtype=np.int32))\n",
      "    except:\n",
      "        w2 = np.empty((w1.shape[0], 0))\n",
      "    w3 = mkron(mkron(np.ones((r3, 1)), i2), np.ones((r1, 1)))\n",
      "    J = np.hstack((w1, w3, w2))\n",
      "    return J"
     ],
     "language": "python",
     "metadata": {
      "code_folding": [
       0
      ]
     },
     "outputs": [],
     "prompt_number": 783
    },
    {
     "cell_type": "code",
     "collapsed": false,
     "input": [
      "#Main new function\n",
      "def left_qr_maxvol(nd):\n",
      "    cr = nd.ucore.copy()\n",
      "    r1, n1, r2 = cr.shape\n",
      "    cr = np.tensordot(nd.edges[0].Ru, cr, 1)\n",
      "    #nd.edges[0].Ru = np.ones((1, 1))\n",
      "    r1 = cr.shape[0]\n",
      "    cr = reshape(cr, (r1 * n1, r2))\n",
      "    q, Ru = qr(cr)\n",
      "    ind = maxvol(q)\n",
      "    Ru = np.dot(q[ind, :], Ru)\n",
      "    q = np.linalg.solve(q[ind, :].T, q.T).T\n",
      "    nd.ucore = reshape(q, (r1, n1, r2)).copy()\n",
      "    nd.edges[1].Ru = Ru.copy()\n",
      "    nd.maxvol_left = np.unravel_index(ind, (r1, n1), order='F')\n",
      "    #The philosophical question if this index should be stored on the edge or in the node\n",
      "    #The typical recomputation:\n",
      "    #Take left index somewhere and update. For the first node it comes from the left edge\n",
      "    #So, we can store ind_left on an edge, whereas ind_left_add in the node\n",
      "    \"\"\" This is a logically separate function \"\"\"\n",
      "    i_left = nd.edges[0].ind_left\n",
      "    #Update index\n",
      "    w1 = mkron(np.ones((n1, 1), dtype=np.int32), i_left)\n",
      "    w2 = mkron(reshape(np.arange(n1, dtype=np.int32),(-1, 1)), np.ones((r1, 1), dtype=np.int32))\n",
      "    i_next = np.hstack((w1, w2))\n",
      "    i_next = reshape(i_next, (r1 * n1, -1))\n",
      "    i_next = i_next[ind, :]\n",
      "    \n",
      "    nd.edges[1].ind_left = i_next.copy()\n",
      "    print 'ind_left:', nd.edges[1].ind_left\n",
      "    nd.edges[1].ind_left_add = i_next.copy()\n",
      "    \n",
      "    \n",
      "def right_qr_maxvol(nd):\n",
      "    cr = nd.vcore.copy()\n",
      "    r1, n, r2 = cr.shape\n",
      "    Rv = nd.edges[1].Rv.copy()\n",
      "    cr = np.tensordot(cr, Rv, 1)\n",
      "    r2 = cr.shape[2]\n",
      "    cr = reshape(cr, (r1, -1))\n",
      "    cr = cr.T\n",
      "    q, Rv = np.linalg.qr(cr)\n",
      "    ind = maxvol(q)\n",
      "    Rv = np.dot(q[ind, :], Rv)\n",
      "    q = np.linalg.solve(q[ind, :].T, q.T).T\n",
      "    nd.edges[0].Rv = Rv.T.copy()\n",
      "    q = reshape(q.T, (-1, n, r2))\n",
      "    nd.vcore = q.copy()\n",
      "    nd.maxvol_right = np.unravel_index(ind, (n, r2), order='F')\n",
      "    \"\"\" Recomputation of right indices goes here \"\"\" \n",
      "    #i_right = nd.edges[1].ind_right\n",
      "    #w2 = mkron(np.ones((n, 1), dtype=np.int32), i_right)\n",
      "    \"\"\" Finally, update indices \"\"\"\n",
      "    i_right = nd.edges[1].ind_right\n",
      "    #print 'i_right: ', i_right\n",
      "    w1 = mkron(np.ones((r2, 1), dtype=np.int32), reshape(np.arange(n, dtype=np.int32),(-1, 1)))\n",
      "    #print 'w1:', w1\n",
      "    try:\n",
      "        w2 = mkron(i_right, np.ones((n, 1), dtype=np.int32))\n",
      "        i_next = np.hstack((w1, w2))\n",
      "        #print 'w2:', w2\n",
      "        #print 'i_next:', i_next\n",
      "    except:\n",
      "        i_next = w1\n",
      "\n",
      "    \n",
      "    #try:\n",
      "    #    w2 = mkron(i_right, np.ones((n, 1), dtype=np.int32))\n",
      "    #except: \n",
      "    #    w2 = np.ones((n, 1), dtype=np.int32)\n",
      "    #w1 = mkron(np.ones((r2, 1), dtype=np.int32), reshape(np.arange(n, dtype=np.int32),(-1, 1)))\n",
      "    #i_next = np.hstack((w1, w2))\n",
      "    i_next = reshape(i_next, (n * r2, -1))\n",
      "    i_next = i_next[ind, :]\n",
      "    nd.edges[0].ind_right = i_next.copy()\n",
      "    #print 'final ind_right:', nd.edges[0].ind_right\n",
      "    nd.edges[0].ind_right_add = i_next.copy()\n",
      "    \n",
      "def apply_Ru(nd):\n",
      "    cr = nd.ucore.copy()\n",
      "    try:\n",
      "        Ru = nd.edges[0].Ru.copy()\n",
      "        cr = np.tensordot(Ru, cr, 1)\n",
      "    except: \n",
      "        pass\n",
      "    nd.ucore = cr\n",
      "    nd.edges[0].Ru = []\n",
      "\n",
      "def compute_uadd(nd):\n",
      "    cr = nd.ucore.copy()\n",
      "    n = cr.shape[1]\n",
      "    #Compute uadd \n",
      "    #Form full index\n",
      "    i_left = nd.edges[0].ind_left\n",
      "    r1 = i_left.shape[0]\n",
      "    i_right_add = nd.edges[1].ind_right_add\n",
      "    #print 'i_right_add:', i_right_add\n",
      "    radd = i_right_add.shape[0]\n",
      "    r2 = cr.shape[2]\n",
      "    if r1 * n == r2:\n",
      "        nd.er_u = 0\n",
      "        print 'Compute uadd, finished at full block', 'n=', n, 'r1=', r1, 'r2=', r2\n",
      "        #nd.edges[1].Ru = np.eye(r2)\n",
      "        return\n",
      "    #print 'u has the size %d x %d' % (r1 * n, r2)\n",
      "    #print 'uadd will have the size %d x %d' % ((r1 * n), radd)\n",
      "   \n",
      "    \n",
      "    #w1 = mkron(np.ones((radd * n, 1),dtype=np.int32), i_left)\n",
      "    #w2 = mkron(i_right_add, np.ones((r1 * n, 1), dtype=np.int32))\n",
      "    p = np.arange(n, dtype=np.int32); p = reshape(p, (-1, 1))\n",
      "    #w3 = mkron(mkron(np.ones((radd, 1)), p), np.ones((r1, 1)))\n",
      "    #J = np.hstack((w1, w3, w2))\n",
      "    J = index_merge(i_left, p, i_right_add)\n",
      "    \n",
      "    #J = np.hstack((w2, w3, w1))\n",
      "    #print 'i_right_add:', i_right_add\n",
      "    #print 'i_left:', i_left\n",
      "    \n",
      "    uadd = c.fun(J)\n",
      "    uadd = reshape(uadd, (-1, radd))\n",
      "    u = reshape(cr, (-1, r2))\n",
      "    ind = nd.maxvol_left\n",
      "    ind = np.ravel_multi_index(ind, (r1, n), order='F')\n",
      "    #Now update \n",
      "    comp_u = uadd - np.dot(u, uadd[ind, :])\n",
      "    \n",
      "    #print 'er in u:', np.linalg.norm(comp_u), 'rank=', u.shape[1]\n",
      "    print 'error in u:', np.linalg.norm(comp_u)\n",
      "    er = np.linalg.norm(comp_u) / np.linalg.norm(u) \n",
      "    nd.er_u = er\n",
      "    #rank_increase = er >= c.eps \n",
      "    #print 'Rank increase:', rank_increase\n",
      "    rq = n * r1 - r2\n",
      "    if radd > rq:\n",
      "        comp_u = np.random.randn(r1 * n, rq)\n",
      "        radd = rq\n",
      "    #print 'compu_u is', comp_u.shape\n",
      "    #comp_u, tmp = np.linalg.qr(comp_u)\n",
      "    ifilt = filter(lambda x: x not in ind, xrange(comp_u.shape[0]))\n",
      "    c1 = comp_u[ifilt, :]\n",
      "    c1, tmp = np.linalg.qr(c1)\n",
      "    comp_u[ifilt, :] = c1\n",
      "    #Do a slight fix\n",
      "\n",
      "    ind_add = maxvol(comp_u)\n",
      "    uv = u[ind_add, :]\n",
      "    u2 = np.linalg.solve(comp_u[ind_add, :].T, comp_u.T).T\n",
      "    u1 = u - np.dot(u2, u[ind_add, :])\n",
      "    u = np.hstack((u1, u2))\n",
      "    nd.ucore = reshape(u.copy(), (r1, n, -1)) #Save the current core\n",
      "    Ru = np.vstack((np.eye(r2), uv)) #Correction of the product\n",
      "    ind = np.hstack((ind, ind_add))\n",
      "\n",
      "    nd.maxvol_left = np.unravel_index(ind, (r1, n), order='F')\n",
      "    #else:\n",
      "    #   Ru = np.eye(r2)\n",
      "    try:\n",
      "        nd.edges[1].Ru = np.dot(Ru, nd.edges[1].Ru)\n",
      "    except:\n",
      "        nd.edges[1].Ru = Ru.copy()\n",
      "    #And also recompute the next index\n",
      "    i_left = nd.edges[0].ind_left\n",
      "    #Update index full\n",
      "    w1 = mkron(np.ones((n, 1), dtype=np.int32), i_left)\n",
      "    w2 = mkron(reshape(np.arange(n, dtype=np.int32), (-1, 1)), np.ones((r1, 1), dtype=np.int32))\n",
      "    #i_next = np.hstack((w2, w1))\n",
      "    i_next = np.hstack((w1, w2))\n",
      "    \n",
      "    i_next = reshape(i_next, (r1 * n, -1))\n",
      "    \n",
      "    nd.edges[1].ind_left = i_next[ind, :].copy()\n",
      "    \n",
      "    nd.edges[1].ind_left_add_new = i_next[ind_add, :].copy()\n",
      "    #else:\n",
      "    #    nd.edges[1].ind_left_add_new = nd.edges[1].ind_left_add.copy()\n",
      "    #print 'ind_left_add_new', nd.edges[1].ind_left_add_new\n",
      "    #print 'ind:', ind\n",
      "    #print 'ind_add:', ind_add\n",
      "    \n",
      "def apply_Rv(nd):\n",
      "    cr = nd.vcore.copy()\n",
      "    try:\n",
      "        Rv = nd.edges[1].Rv.copy()\n",
      "        cr = np.tensordot(cr, Rv, 1)\n",
      "    except:\n",
      "        pass\n",
      "    nd.vcore = cr\n",
      "    nd.edges[1].Rv = []\n",
      "    \n",
      "    \n",
      "def compute_vadd(nd):\n",
      "    cr = nd.vcore.copy()\n",
      "    n = cr.shape[1]\n",
      "    i_right = nd.edges[1].ind_right\n",
      "    r2 = i_right.shape[0]\n",
      "    i_left_add = nd.edges[0].ind_left_add\n",
      "    #print 'i_left_add:', i_left_add\n",
      "    #print 'ind_left:', nd.edges[0].ind_left\n",
      "    radd = i_left_add.shape[0]\n",
      "    r1 = cr.shape[0]\n",
      "    if r1 == n * r2: #We already have full rank, do nothing\n",
      "        nd.er_v = 0.0\n",
      "        print 'compute_vadd, finished at full block', 'n=', n, 'r1=', r1, 'r2=', r2\n",
      "        return\n",
      "    #print 'vadd will have shape %d x %d' % (n * r2, radd)\n",
      "    #print 'v will have have shape %d x %d' % (n * r2, r1)\n",
      "    #w1 = mkron(np.ones((r2 * n, 1),dtype=np.int32), i_left_add)\n",
      "    #try: \n",
      "    #    w2 = mkron(i_right, np.ones((radd * n, 1), dtype=np.int32))\n",
      "    #except:\n",
      "    #    w2 = np.ones((radd * n, 1), dtype=np.int32)\n",
      "    p = np.arange(n, dtype=np.int32); p = reshape(p, (-1, 1))\n",
      "    #w3 = mkron(mkron(np.ones((r2, 1)), p), np.ones((radd, 1)))\n",
      "    #J = np.hstack((w2, w3, w1))\n",
      "    \n",
      "    J = index_merge(i_left_add, p, i_right)\n",
      "    \n",
      "    \n",
      "    #J = np.hstack((w1, w3, w2))\n",
      "    \n",
      "    #print 'J:', J\n",
      "    #print 'i_left_add:', i_left_add\n",
      "    #print 'i_right:', i_right\n",
      "    vadd = c.fun(J)\n",
      "    vadd = reshape(vadd, (radd, -1))\n",
      "    v = reshape(cr, (r1, -1))\n",
      "    v = v.T\n",
      "    vold = v.copy()\n",
      "\n",
      "    vadd = vadd.T\n",
      "    ind = nd.maxvol_right\n",
      "    ind = np.ravel_multi_index(ind, (n, r2), order='F')\n",
      "    #Now update \n",
      "    comp_v = vadd - np.dot(v, vadd[ind, :])\n",
      "    \n",
      "    #print 'vadd:', vadd, 'comp_v:', comp_v, 'v', v\n",
      "    #raw_input()\n",
      "    print 'error in v:', np.linalg.norm(comp_v)\n",
      "    #We do extension only if the error in comp_v is not small\n",
      "    er = np.linalg.norm(comp_v) / np.linalg.norm(v) \n",
      "    nd.er_v = er\n",
      "\n",
      "    #rank_increase = er >= c.eps\n",
      "    rq = n * r2 - r1 \n",
      "    if radd > rq:\n",
      "        comp_v = np.random.randn((n * r2, rq))\n",
      "        radd = rq\n",
      "    ifilt = filter(lambda x: x not in ind, xrange(comp_v.shape[0]))\n",
      "    c1 = comp_v[ifilt, :]\n",
      "    c1, tmp = np.linalg.qr(c1)\n",
      "    comp_v[ifilt, :] = c1\n",
      "    \n",
      "    ind_add = maxvol(comp_v)\n",
      "    uv = v[ind_add, :]\n",
      "    v2 = np.linalg.solve(comp_v[ind_add, :].T, comp_v.T).T\n",
      "    v1 = v - np.dot(v2, v[ind_add, :])\n",
      "    v = np.hstack((v1, v2))\n",
      "    nd.vcore = reshape(v.copy().T, (-1, n, r2)) #Save the current core\n",
      "    Rv = np.vstack((np.eye(r1), uv)) #Correction of the product\n",
      "    ind = np.hstack((ind, ind_add))\n",
      "    nd.maxvol_right = np.unravel_index(ind, (n, r2), order='F')\n",
      "    try:\n",
      "        nd.edges[0].Rv = np.dot(nd.edges[0].Rv, Rv.T)\n",
      "    except:\n",
      "        nd.edges[0].Rv = Rv.T.copy()\n",
      "\n",
      "    \n",
      "    \"\"\" Finally, update indices \"\"\"\n",
      "    i_right = nd.edges[1].ind_right\n",
      "    w1 = mkron(np.ones((r2, 1), dtype=np.int32), reshape(np.arange(n, dtype=np.int32),(-1, 1)))\n",
      "\n",
      "    try:\n",
      "        w2 = mkron(i_right, np.ones((n, 1), dtype=np.int32))\n",
      "        #i_next = np.hstack((w2, w1))\n",
      "        i_next = np.hstack((w1, w2))\n",
      "    except:\n",
      "        i_next = w1\n",
      "    #w1 = mkron(reshape(np.arange(n, dtype=np.int32),(-1, 1)), np.ones((r2, 1), dtype=np.int32))\n",
      "    \n",
      "    \n",
      "    i_next = reshape(i_next, (n * r2, -1))\n",
      "    nd.edges[0].ind_right = i_next[ind, :].copy()\n",
      "    nd.edges[0].ind_right_add_new = i_next[ind_add, :].copy()\n",
      "        #nd.edges[0].ind_right_add_new = nd.edges[0].ind_right_add.copy()\n",
      "    \n",
      "    \n",
      "def setup_indices(c):\n",
      "    d = c.d\n",
      "    #Setup left indices\n",
      "    for i in xrange(d-1):\n",
      "        nd = c.nodes[i]\n",
      "        left_qr_maxvol(nd)  \n",
      "    \n",
      "    for i in xrange(d-1, 0, -1):\n",
      "        nd = c.nodes[i]\n",
      "        #compute_add(nd)\n",
      "        right_qr_maxvol(nd)\n",
      "\n",
      "def iterate(c):\n",
      "    for i in xrange(c.d):\n",
      "        c.nodes[i].edges[0].Rv = np.ones((1, 1))\n",
      "        c.nodes[i].edges[1].Rv = np.ones((1, 1))\n",
      "        c.nodes[i].edges[0].Ru = np.ones((1, 1))\n",
      "        c.nodes[i].edges[1].Ru = np.ones((1, 1))\n",
      "\n",
      "    #Update u\n",
      "    #print reshape(np.tensordot(c.nodes[0].ucore, c.nodes[1].ucore, 1), (4, -1))\n",
      "    jmax = 0\n",
      "    #wold = np.tensordot(c.nodes[0].ucore, c.nodes[1].ucore, 1)\n",
      "    swp = 0\n",
      "    i = 0 \n",
      "    for i in xrange(d-1):\n",
      "        print 'substep', i\n",
      "        #wnew = np.tensordot(c.nodes[0].ucore, c.nodes[1].ucore, 1)\n",
      "        #print 'Basis error:', np.linalg.norm(wnew - wold)\n",
      "        #w2 = reshape(np.tensordot(c.nodes[1].vcore, c.nodes[2].vcore, 1), (-1, 16))\n",
      "        #w2 = w2.T\n",
      "        #Modifying one link\n",
      "        j = 0\n",
      "        er_max = 2 * c.eps\n",
      "        \n",
      "        #Local block iteration\n",
      "        #while er_max >= c.eps:\n",
      "        Kmax = 10\n",
      "        for j in xrange(Kmax):\n",
      "\n",
      "            apply_Ru(c.nodes[i])\n",
      "            try:\n",
      "                c.nodes[i+1].edges[0].ind_right_add = c.nodes[i+1].edges[0].ind_right_add_new.copy()\n",
      "            except:\n",
      "                print 'wow'\n",
      "                pass\n",
      "            compute_uadd(c.nodes[i])\n",
      "            try:\n",
      "                c.nodes[i].edges[1].ind_left_add = c.nodes[i].edges[1].ind_left_add_new.copy()\n",
      "            except:\n",
      "                pass\n",
      "            compute_vadd(c.nodes[i+1])\n",
      "            apply_Rv(c.nodes[i])\n",
      "            er_max = max(c.nodes[i].er_u, c.nodes[i+1].er_v)\n",
      "            #j = j + 1\n",
      "            #print 'step', j, 'er_max=', er_max\n",
      "        print 'At block', i, 'done', j, 'sweeps'\n",
      "    \"\"\"\n",
      "    for i in xrange(d-2, 1, -1):\n",
      "        print 'substep', i\n",
      "        #wnew = np.tensordot(c.nodes[0].ucore, c.nodes[1].ucore, 1)\n",
      "        #print 'Basis error:', np.linalg.norm(wnew - wold)\n",
      "        #w2 = reshape(np.tensordot(c.nodes[1].vcore, c.nodes[2].vcore, 1), (-1, 16))\n",
      "        #w2 = w2.T\n",
      "        #Modifying one link\n",
      "        j = 0\n",
      "        er_max = 2 * c.eps\n",
      "        \n",
      "        #Local block iteration\n",
      "        #while er_max >= c.eps:\n",
      "        for j in xrange(Kmax):\n",
      "            apply_Ru(c.nodes[i])\n",
      "            try:\n",
      "                c.nodes[i+1].edges[0].ind_right_add = c.nodes[i+1].edges[0].ind_right_add_new.copy()\n",
      "            except:\n",
      "                pass\n",
      "            compute_uadd(c.nodes[i])\n",
      "            try:\n",
      "                c.nodes[i].edges[1].ind_left_add = c.nodes[i].edges[1].ind_left_add_new.copy()\n",
      "            except:\n",
      "                pass\n",
      "            compute_vadd(c.nodes[i+1])\n",
      "            apply_Rv(c.nodes[i])\n",
      "            er_max = max(c.nodes[i].er_u, c.nodes[i+1].er_v)\n",
      "            #j = j + 1\n",
      "            #print 'step', j, 'er_max=', er_max\n",
      "        print 'At block', i, 'done', j, 'sweeps'\n",
      "    \"\"\"\n",
      "        \n",
      "\n",
      "    #c.jmax = jmax\n",
      "    #ynew = tt.tensor.from_list(get_approx(c, d-2))\n",
      "    #if c.yold is not None:\n",
      "    #    c.global_er = (ynew - c.yold).norm() / ynew.norm()\n",
      "    #    c.yold = ynew.copy()\n",
      "    #else:\n",
      "    #    c.yold = ynew.copy()\n",
      "    #    c.global_er = 2 * c.eps\n",
      "    #print 'Global error:', c.global_er\n",
      "\n",
      "def get_approx(c, k):\n",
      "    #Provided that all approximations are computed, find out the Phi matrix\n",
      "    i_left = c.nodes[k].edges[1].ind_left\n",
      "    i_right = c.nodes[k+1].edges[0].ind_right\n",
      "    #print 'i_left:', i_left\n",
      "    #print 'i_right:', i_right\n",
      "\n",
      "    r1 = i_left.shape[0]\n",
      "    r2 = i_right.shape[0]\n",
      "    #Construct index set\n",
      "    w1 = mkron(np.ones((r2, 1), dtype=np.int32), i_left)\n",
      "    w2 = mkron(i_right, np.ones((r1, 1), dtype=np.int32))\n",
      "    J = np.hstack((w1, w2))\n",
      "    #print 'i_left:', i_left\n",
      "    #print 'i_right:', i_right\n",
      "    #print 'J:', J\n",
      "    sbm = c.fun(J)\n",
      "    sbm = reshape(sbm, (r1, r2))\n",
      "    #print 'submatrix:', sbm\n",
      "    x = [[]] * c.d\n",
      "    for i in xrange(k+1):\n",
      "        x[i] = c.nodes[i].ucore\n",
      "    \n",
      "    for i in xrange(k+1, d):\n",
      "        x[i] = c.nodes[i].vcore\n",
      "    x[k] = np.tensordot(x[k], sbm, 1)\n",
      "    return x"
     ],
     "language": "python",
     "metadata": {
      "code_folding": [
       0
      ]
     },
     "outputs": [],
     "prompt_number": 785
    },
    {
     "cell_type": "code",
     "collapsed": false,
     "input": [
      "#Test function\n",
      "def myfun(x):\n",
      "    #return np.sin((x.sum(axis=1))) ** 2\n",
      "    return 1.0 / ((x.sum(axis=1)) + 1)\n",
      "    \n",
      "    #return (x + 1).prod(axis=1)\n",
      "    #return np.ones(x.shape[0])\n",
      "d = 3\n",
      "n = 15\n",
      "r = 1\n",
      "\n",
      "sz = [n] * d\n",
      "ind_all = np.unravel_index(np.arange(n ** d), sz)\n",
      "ind_all = np.array(ind_all).T\n",
      "ft = reshape(myfun(ind_all), sz)\n",
      "#x0 = tt.tensor(ft, 1e-8)\n",
      "x0 = tt.rand(n, d, r)\n"
     ],
     "language": "python",
     "metadata": {
      "code_folding": [
       0
      ]
     },
     "outputs": [],
     "prompt_number": 795
    },
    {
     "cell_type": "markdown",
     "metadata": {},
     "source": [
      "Now the question is how to find the approximation. We can plug the submatrix between any two basises,\n",
      "and that gives you $d$ different approximations.  Maybe we can add them together?\n",
      "$U_1 \\Phi V$"
     ]
    },
    {
     "cell_type": "code",
     "collapsed": false,
     "input": [
      "#Try to run, works not very well\n",
      "niters = 10#Total number of iterations\n",
      "c = init_alg(myfun, x0)\n",
      "c.eps = 1e-8\n",
      "c.global_er = 2 * c.eps\n",
      "setup_indices(c)\n",
      "c.yold = None #Initial approximation\n",
      "swp = 0\n",
      "for it in xrange(niters):\n",
      "#while c.global_er > c.eps:\n",
      "#while c.jmax > 1:\n",
      "    print 'swp:', swp\n",
      "    iterate(c)\n",
      "    X = get_approx(c, d-2)\n",
      "    a1 = tt.tensor.from_list(X)\n",
      "    print np.linalg.norm(a1.full() - ft) / np.linalg.norm(ft)\n",
      "    raw_input()\n",
      "    swp = swp + 1\n",
      "print 'Iteration converged in', swp, 'sweeps'"
     ],
     "language": "python",
     "metadata": {
      "code_folding": []
     },
     "outputs": [
      {
       "output_type": "stream",
       "stream": "stdout",
       "text": [
        "ind_left: [[65]]\n",
        "ind_left: [[65 19]]\n",
        "swp: 0\n",
        "substep 0\n",
        "wow\n",
        "error in u: 0.0817580576935\n",
        "error in v: 0.0993142972832\n",
        "error in u: 0.00316887280716\n",
        "error in v: 0.00665891832606\n",
        "error in u: 0.000319010418963\n",
        "error in v: 0.000195782582429\n",
        "error in u: 8.53393804989e-06\n",
        "error in v: 9.25920450341e-06\n",
        "error in u: 5.92171556266e-07\n",
        "error in v: 4.32964248912e-07\n",
        "error in u: 7.94652977333e-09\n",
        "error in v: 1.25962261223e-08\n",
        "error in u: 3.73335790967e-10\n",
        "error in v: 6.95719243117e-11\n",
        "error in u: 4.69782271777e-12\n",
        "error in v: 1.18964557325e-11\n",
        "error in u: 2.25951266442e-13\n",
        "error in v: 3.35689003319e-13\n",
        "error in u: 3.15385668914e-15\n",
        "error in v: 2.07208580226e-15\n",
        "At block 0 done 9 sweeps\n",
        "substep 1\n",
        "wow\n",
        "error in u: 0.23352792649\n",
        "error in v:"
       ]
      },
      {
       "output_type": "stream",
       "stream": "stdout",
       "text": [
        " 0.289800634886\n",
        "error in u: 1.37113208619\n",
        "error in v: 2.58188034281\n",
        "error in u: 0.46669444959\n",
        "error in v: 0.150258815876\n",
        "error in u: 0.14728570214\n",
        "error in v: 0.0178836901712\n",
        "error in u: 0.00183068567816\n",
        "error in v:"
       ]
      },
      {
       "output_type": "stream",
       "stream": "stdout",
       "text": [
        " 0.00351664646928\n",
        "error in u: 0.0127755679219\n",
        "error in v: 0.00754251119239\n",
        "error in u: 0.00054788204074\n",
        "error in v: 0.000120107833939\n",
        "error in u: 0.00020860033179\n",
        "error in v: 7.24679590129e-05\n",
        "error in u: 1.7072842404e-05\n",
        "error in v:"
       ]
      },
      {
       "output_type": "stream",
       "stream": "stdout",
       "text": [
        " 8.73615985814e-06\n",
        "error in u: 7.29081248221e-06\n",
        "error in v: 1.64600131932e-05\n",
        "At block 1 done 9 sweeps\n",
        "0.0186695838113"
       ]
      },
      {
       "output_type": "stream",
       "stream": "stdout",
       "text": [
        "\n"
       ]
      },
      {
       "name": "stdout",
       "output_type": "stream",
       "stream": "stdout",
       "text": [
        "\n"
       ]
      },
      {
       "output_type": "stream",
       "stream": "stdout",
       "text": [
        "swp: 1\n",
        "substep 0\n",
        "error in u: 1.64661721412e-16\n",
        "error in v: 1.17851344902\n",
        "error in u: 0.194076727389\n",
        "error in v: 0.43219983985\n",
        "error in u: 0.00183759710685\n",
        "error in v:"
       ]
      },
      {
       "output_type": "stream",
       "stream": "stdout",
       "text": [
        " 0.173823267786\n",
        "error in u: 2.21644444797e-17\n",
        "error in v: 0.00292710717636\n",
        "error in u: 1.00245164697e-06\n",
        "error in v: 0.0287929753822\n",
        "error in u:"
       ]
      },
      {
       "output_type": "stream",
       "stream": "stdout",
       "text": [
        " 5.12973893794e-16\n",
        "error in v: 0.00108045023617\n",
        "error in u: 0.000137826720851\n",
        "error in v: 0.00178094124263\n",
        "error in u: 4.02003907013e-07\n",
        "error in v: 0.000128404138304\n",
        "error in u:"
       ]
      },
      {
       "output_type": "stream",
       "stream": "stdout",
       "text": [
        " 1.40588578262e-11\n",
        "error in v: 5.80697820417e-05\n",
        "error in u: 3.16310850465e-07\n",
        "error in v: 2.0509535702e-06\n",
        "At block 0 done 9 sweeps\n",
        "substep 1\n",
        "error in u: 1.55351035209e-06\n",
        "error in v:"
       ]
      },
      {
       "output_type": "stream",
       "stream": "stdout",
       "text": [
        " 1.43846132517e-16\n",
        "error in u: 4.04447000619e-09\n",
        "error in v: 3.06790892181e-08\n",
        "error in u: 2.7648193378e-08\n",
        "error in v: 4.06659489481e-08\n",
        "error in u: 0.000417966588793\n",
        "error in v:"
       ]
      },
      {
       "output_type": "stream",
       "stream": "stdout",
       "text": [
        " 1.93451394278e-08\n",
        "error in u: 3.31390791082e-10\n",
        "error in v: 1.60846370379e-10\n",
        "error in u: 0.0003376931982\n",
        "error in v: 1.58012265884e-16\n",
        "error in u:"
       ]
      },
      {
       "output_type": "stream",
       "stream": "stdout",
       "text": [
        " 5.63826631709e-07\n",
        "error in v: 1.32313572198e-09\n",
        "error in u: 1.85386889959e-08\n",
        "error in v: 1.97248052315e-16\n",
        "error in u: 1.80185885813e-09\n",
        "error in v:"
       ]
      },
      {
       "output_type": "stream",
       "stream": "stdout",
       "text": [
        " 1.24404725207e-10\n",
        "error in u: 1.53363630886e-12\n",
        "error in v: 2.53670150309e-12\n",
        "At block 1 done 9 sweeps\n",
        "0.00390393671188"
       ]
      },
      {
       "output_type": "stream",
       "stream": "stdout",
       "text": [
        "\n"
       ]
      },
      {
       "name": "stdout",
       "output_type": "stream",
       "stream": "stdout",
       "text": [
        "\n"
       ]
      },
      {
       "output_type": "stream",
       "stream": "stdout",
       "text": [
        "swp: 2\n",
        "substep 0\n",
        "error in u: 2.06534110991e-17\n",
        "error in v: 9.60729600471e-07\n",
        "error in u: 6.221755693e-14\n",
        "error in v: 1.69019921489e-06\n",
        "error in u:"
       ]
      },
      {
       "output_type": "stream",
       "stream": "stdout",
       "text": [
        " 2.52877228482e-17\n",
        "error in v: 1.74361798036e-07\n",
        "error in u: 2.51627604913e-16\n",
        "error in v:"
       ]
      },
      {
       "output_type": "stream",
       "stream": "stdout",
       "text": [
        " 1.2798156646e-06\n",
        "error in u: 8.04134915662e-12\n",
        "error in v: 1.15273388632e-07\n",
        "error in u: 2.24757176241e-16\n",
        "error in v:"
       ]
      },
      {
       "output_type": "stream",
       "stream": "stdout",
       "text": [
        " 3.6572583458e-10\n",
        "error in u: 1.99869957768e-17\n",
        "error in v: 8.98823294074e-09\n",
        "error in u:"
       ]
      },
      {
       "output_type": "stream",
       "stream": "stdout",
       "text": [
        " 2.692616819e-11\n",
        "error in v: 2.13238161619e-07\n",
        "error in u: 2.92890857137e-11\n",
        "error in v:"
       ]
      },
      {
       "output_type": "stream",
       "stream": "stdout",
       "text": [
        " 3.32489688583e-09\n",
        "error in u: 2.45326946669e-17\n",
        "error in v: 1.06938187298e-07\n",
        "At block"
       ]
      },
      {
       "output_type": "stream",
       "stream": "stdout",
       "text": [
        " 0 done 9 sweeps\n",
        "substep 1\n",
        "error in u: 2.55337131366e-11\n",
        "error in v: 3.88953460876e-13\n",
        "error in u: 4.80984450545e-13\n",
        "error in v:"
       ]
      },
      {
       "output_type": "stream",
       "stream": "stdout",
       "text": [
        " 2.17432416311e-14\n",
        "error in u: 5.15596440966e-07\n",
        "error in v: 1.03955352004e-14\n",
        "error in u: 3.74947292155e-10\n",
        "error in v:"
       ]
      },
      {
       "output_type": "stream",
       "stream": "stdout",
       "text": [
        " 6.9599821173e-16\n",
        "error in u: 2.60301112196e-14\n",
        "error in v: 5.63451430267e-17\n",
        "error in u: 1.91418372181e-09\n",
        "error in v:"
       ]
      },
      {
       "output_type": "stream",
       "stream": "stdout",
       "text": [
        " 1.73307470514e-16\n",
        "error in u: 3.41810410554e-12\n",
        "error in v: 2.2165632435e-16\n",
        "error in u: 8.52721693324e-16\n",
        "error in v:"
       ]
      },
      {
       "output_type": "stream",
       "stream": "stdout",
       "text": [
        " 5.02995029912e-17\n",
        "error in u: 2.05945672884e-12\n",
        "error in v: 6.23053171419e-17\n",
        "error in u: 2.72561118323e-10\n",
        "error in v:"
       ]
      },
      {
       "output_type": "stream",
       "stream": "stdout",
       "text": [
        " 1.09644953485e-16\n",
        "At block 1 done 9 sweeps\n",
        "0.000369739778826\n"
       ]
      },
      {
       "name": "stdout",
       "output_type": "stream",
       "stream": "stdout",
       "text": [
        "\n"
       ]
      },
      {
       "output_type": "stream",
       "stream": "stdout",
       "text": [
        "swp: 3\n",
        "substep 0\n",
        "error in u: 1.42080149674e-13\n",
        "error in v: 9.38087999471e-11\n",
        "error in u: 8.15534077872e-16\n",
        "error in v:"
       ]
      },
      {
       "output_type": "stream",
       "stream": "stdout",
       "text": [
        " 2.310923306e-11\n",
        "error in u: 3.75248556278e-15\n",
        "error in v: 4.73959196997e-10\n",
        "error in u:"
       ]
      },
      {
       "output_type": "stream",
       "stream": "stdout",
       "text": [
        " 9.2183456875e-17\n",
        "error in v: 7.56173722656e-11\n",
        "error in u: 1.71140823541e-16\n",
        "error in v:"
       ]
      },
      {
       "output_type": "stream",
       "stream": "stdout",
       "text": [
        " 1.5186913631e-12\n",
        "error in u: 8.00561258105e-17\n",
        "error in v:"
       ]
      },
      {
       "output_type": "stream",
       "stream": "stdout",
       "text": [
        " 1.09417789839e-12\n",
        "error in u: 5.99923460416e-17\n",
        "error in v: 1.51882005601e-11\n",
        "error in u:"
       ]
      },
      {
       "output_type": "stream",
       "stream": "stdout",
       "text": [
        " 2.02594536668e-15\n",
        "error in v: 6.06447578973e-13\n",
        "error in u: 7.57540057104e-17\n",
        "error in v:"
       ]
      },
      {
       "output_type": "stream",
       "stream": "stdout",
       "text": [
        " 7.84249452476e-14\n",
        "error in u: 5.56465114694e-17\n",
        "error in v: 3.15059846341e-13\n",
        "At block"
       ]
      },
      {
       "output_type": "stream",
       "stream": "stdout",
       "text": [
        " 0 done 9 sweeps\n",
        "substep 1\n",
        "error in u: 7.11739675721e-16\n",
        "error in v: 7.8062556419e-17\n",
        "error in u:"
       ]
      },
      {
       "output_type": "stream",
       "stream": "stdout",
       "text": [
        " 4.52788567139e-13\n",
        "error in v: 7.98302705327e-17\n",
        "error in u: 2.29123378309e-14\n",
        "error in v:"
       ]
      },
      {
       "output_type": "stream",
       "stream": "stdout",
       "text": [
        " 1.23055370414e-16\n",
        "error in u: 1.17766868446e-15\n",
        "error in v:"
       ]
      },
      {
       "output_type": "stream",
       "stream": "stdout",
       "text": [
        " 4.08489625435e-17\n",
        "error in u: 1.0499152301e-15\n",
        "error in v:"
       ]
      },
      {
       "output_type": "stream",
       "stream": "stdout",
       "text": [
        " 1.71772665465e-16\n",
        "error in u: 3.50096251575e-16\n",
        "error in v: 8.8589866934e-17\n",
        "error in u:"
       ]
      },
      {
       "output_type": "stream",
       "stream": "stdout",
       "text": [
        " 2.16992470183e-13\n",
        "error in v: 4.31158182824e-17\n",
        "error in u: 3.32791507821e-16\n",
        "error in v:"
       ]
      },
      {
       "output_type": "stream",
       "stream": "stdout",
       "text": [
        " 5.55585648277e-17\n",
        "error in u: 3.07479034153e-14\n",
        "error in v: 5.46713178524e-17\n",
        "error in u:"
       ]
      },
      {
       "output_type": "stream",
       "stream": "stdout",
       "text": [
        " 3.69318920646e-16\n",
        "error in v: 7.65443662374e-17\n",
        "At block 1 done 9 sweeps\n",
        "0.000216126289736"
       ]
      },
      {
       "output_type": "stream",
       "stream": "stdout",
       "text": [
        "\n"
       ]
      },
      {
       "name": "stdout",
       "output_type": "stream",
       "stream": "stdout",
       "text": [
        "\n"
       ]
      },
      {
       "output_type": "stream",
       "stream": "stdout",
       "text": [
        "swp: 4\n",
        "substep 0\n",
        "error in u: 5.03443532034e-17\n",
        "error in v: 8.58844038819e-15\n",
        "error in u: 2.87409705857e-17\n",
        "error in v:"
       ]
      },
      {
       "output_type": "stream",
       "stream": "stdout",
       "text": [
        " 2.21212312072e-13\n",
        "error in u: 3.20027097796e-16\n",
        "error in v:"
       ]
      },
      {
       "output_type": "stream",
       "stream": "stdout",
       "text": [
        " 1.55023285232e-13\n",
        "error in u: 6.34657539367e-17\n",
        "error in v: "
       ]
      },
      {
       "output_type": "stream",
       "stream": "stdout",
       "text": [
        "1.03061650983e-13\n",
        "error in u: 6.84558854301e-15\n",
        "error in v:"
       ]
      },
      {
       "output_type": "stream",
       "stream": "stdout",
       "text": [
        " 7.15327696978e-15\n",
        "error in u: 3.98325903622e-17\n",
        "error in v: 2.36628708164e-13\n",
        "error in u:"
       ]
      },
      {
       "output_type": "stream",
       "stream": "stdout",
       "text": [
        " 2.0240588192e-16\n",
        "error in v: 7.59514754274e-16\n",
        "error in u:"
       ]
      },
      {
       "output_type": "stream",
       "stream": "stdout",
       "text": [
        " 6.12765132426e-17\n",
        "error in v: 2.21386756375e-16\n",
        "error in u:"
       ]
      },
      {
       "output_type": "stream",
       "stream": "stdout",
       "text": [
        " 1.73498366499e-16\n",
        "error in v: 3.03285902924e-16\n",
        "error in u:"
       ]
      },
      {
       "output_type": "stream",
       "stream": "stdout",
       "text": [
        " 9.47411567577e-17\n",
        "error in v: 8.63797799173e-16\n",
        "At block"
       ]
      },
      {
       "output_type": "stream",
       "stream": "stdout",
       "text": [
        " 0 done 9 sweeps\n",
        "substep 1\n",
        "error in u: 3.64302616934e-15\n",
        "error in v:"
       ]
      },
      {
       "output_type": "stream",
       "stream": "stdout",
       "text": [
        " 7.01705831294e-17\n",
        "error in u: 9.49604252133e-16\n",
        "error in v:"
       ]
      },
      {
       "output_type": "stream",
       "stream": "stdout",
       "text": [
        " 7.32702512619e-17\n",
        "error in u: 7.71504370476e-16\n",
        "error in v:"
       ]
      },
      {
       "output_type": "stream",
       "stream": "stdout",
       "text": [
        " 7.84854544263e-17\n",
        "error in u: 8.55874661277e-16\n",
        "error in v:"
       ]
      },
      {
       "output_type": "stream",
       "stream": "stdout",
       "text": [
        " 6.35013056642e-17\n",
        "error in u: 1.35802263367e-14\n",
        "error in v:"
       ]
      },
      {
       "output_type": "stream",
       "stream": "stdout",
       "text": [
        " 1.59169741362e-16\n",
        "error in u: 8.76057253832e-16\n",
        "error in v:"
       ]
      },
      {
       "output_type": "stream",
       "stream": "stdout",
       "text": [
        " 9.45384506334e-17\n",
        "error in u: 5.10548489102e-16\n",
        "error in v:"
       ]
      },
      {
       "output_type": "stream",
       "stream": "stdout",
       "text": [
        " 8.66493942135e-17\n",
        "error in u: 1.20831188019e-12\n",
        "error in v:"
       ]
      },
      {
       "output_type": "stream",
       "stream": "stdout",
       "text": [
        " 1.4067580636e-16\n",
        "error in u: 7.69480883667e-16\n",
        "error in v:"
       ]
      },
      {
       "output_type": "stream",
       "stream": "stdout",
       "text": [
        " 7.75646448265e-17\n",
        "error in u: 1.81514256262e-15\n",
        "error in v:"
       ]
      },
      {
       "output_type": "stream",
       "stream": "stdout",
       "text": [
        " 1.07104249361e-16\n",
        "At block 1 done 9 sweeps\n",
        "0.000102339815185"
       ]
      },
      {
       "output_type": "stream",
       "stream": "stdout",
       "text": [
        "\n"
       ]
      },
      {
       "name": "stdout",
       "output_type": "stream",
       "stream": "stdout",
       "text": [
        "\n"
       ]
      },
      {
       "output_type": "stream",
       "stream": "stdout",
       "text": [
        "swp: 5\n",
        "substep 0\n",
        "error in u: 7.50405766115e-17\n",
        "error in v: 1.92015984419e-15\n",
        "error in u:"
       ]
      },
      {
       "output_type": "stream",
       "stream": "stdout",
       "text": [
        " 7.98585373747e-17\n",
        "error in v: 2.21420311053e-15\n",
        "error in u:"
       ]
      },
      {
       "output_type": "stream",
       "stream": "stdout",
       "text": [
        " 5.78927412813e-17\n",
        "error in v: 1.22154868121e-15\n",
        "error in u:"
       ]
      },
      {
       "output_type": "stream",
       "stream": "stdout",
       "text": [
        " 5.99798045246e-17\n",
        "error in v: 9.73545840233e-16\n",
        "error in u:"
       ]
      },
      {
       "output_type": "stream",
       "stream": "stdout",
       "text": [
        " 6.13562644574e-17\n",
        "error in v: 5.1329625641e-16\n",
        "error in u:"
       ]
      },
      {
       "output_type": "stream",
       "stream": "stdout",
       "text": [
        " 7.80143547741e-17\n",
        "error in v: 9.64957378046e-16\n",
        "error in u:"
       ]
      },
      {
       "output_type": "stream",
       "stream": "stdout",
       "text": [
        " 1.08003081169e-16\n",
        "error in v: 7.57106939758e-16\n",
        "error in u:"
       ]
      },
      {
       "output_type": "stream",
       "stream": "stdout",
       "text": [
        " 9.78697716754e-17\n",
        "error in v: 6.50623355051e-16\n",
        "error in u:"
       ]
      },
      {
       "output_type": "stream",
       "stream": "stdout",
       "text": [
        " 1.4379643886e-16\n",
        "error in v: 7.01516709757e-16\n",
        "error in u:"
       ]
      },
      {
       "output_type": "stream",
       "stream": "stdout",
       "text": [
        " 5.7658356751e-17\n",
        "error in v: 5.05151282597e-16\n",
        "At block"
       ]
      },
      {
       "output_type": "stream",
       "stream": "stdout",
       "text": [
        " 0 done 9 sweeps\n",
        "substep 1\n",
        "error in u: 1.26828900575e-15\n",
        "error in v:"
       ]
      },
      {
       "output_type": "stream",
       "stream": "stdout",
       "text": [
        " 1.51401215055e-16\n",
        "error in u: 8.30169518411e-16\n",
        "error in v:"
       ]
      },
      {
       "output_type": "stream",
       "stream": "stdout",
       "text": [
        " 2.21719105696e-16\n",
        "error in u: 9.61980420285e-16\n",
        "error in v:"
       ]
      },
      {
       "output_type": "stream",
       "stream": "stdout",
       "text": [
        " 1.22743178697e-16\n",
        "error in u: 7.96459136994e-16\n",
        "error in v:"
       ]
      },
      {
       "output_type": "stream",
       "stream": "stdout",
       "text": [
        " 1.27206812376e-16\n",
        "error in u: 7.15052432875e-16\n",
        "error in v:"
       ]
      },
      {
       "output_type": "stream",
       "stream": "stdout",
       "text": [
        " 1.40555427706e-16\n",
        "error in u: 1.19264294045e-13\n",
        "error in v:"
       ]
      },
      {
       "output_type": "stream",
       "stream": "stdout",
       "text": [
        " 1.10011425215e-16\n",
        "error in u: 8.39014122617e-16\n",
        "error in v:"
       ]
      },
      {
       "output_type": "stream",
       "stream": "stdout",
       "text": [
        " 5.17517760943e-17\n",
        "error in u: 5.00850523392e-16\n",
        "error in v:"
       ]
      },
      {
       "output_type": "stream",
       "stream": "stdout",
       "text": [
        " 5.42707899834e-17\n",
        "error in u: 8.38733509039e-14\n",
        "error in v:"
       ]
      },
      {
       "output_type": "stream",
       "stream": "stdout",
       "text": [
        " 8.98211606898e-17\n",
        "error in u: 7.70711792837e-16\n",
        "error in v:"
       ]
      },
      {
       "output_type": "stream",
       "stream": "stdout",
       "text": [
        " 6.14114161669e-17\n",
        "At block 1 done 9 sweeps\n",
        "0.000164688647709"
       ]
      },
      {
       "output_type": "stream",
       "stream": "stdout",
       "text": [
        "\n"
       ]
      },
      {
       "name": "stdout",
       "output_type": "stream",
       "stream": "stdout",
       "text": [
        "\n"
       ]
      },
      {
       "output_type": "stream",
       "stream": "stdout",
       "text": [
        "swp: 6\n",
        "substep 0\n",
        "error in u: 1.63873993245e-16\n",
        "error in v: 2.15796689431e-15\n",
        "error in u:"
       ]
      },
      {
       "output_type": "stream",
       "stream": "stdout",
       "text": [
        " 8.27773980641e-17\n",
        "error in v: 1.12603047495e-15\n",
        "error in u:"
       ]
      },
      {
       "output_type": "stream",
       "stream": "stdout",
       "text": [
        " 9.00052377841e-17\n",
        "error in v: 1.12181103123e-15\n",
        "error in u:"
       ]
      },
      {
       "output_type": "stream",
       "stream": "stdout",
       "text": [
        " 7.11025042036e-17\n",
        "error in v: 8.00540231231e-16\n",
        "error in u:"
       ]
      },
      {
       "output_type": "stream",
       "stream": "stdout",
       "text": [
        " 3.31214092683e-16\n",
        "error in v: 1.84559312787e-15\n",
        "error in u:"
       ]
      },
      {
       "output_type": "stream",
       "stream": "stdout",
       "text": [
        " 4.56993466413e-17\n",
        "error in v: 3.45793095984e-15\n",
        "error in u:"
       ]
      },
      {
       "output_type": "stream",
       "stream": "stdout",
       "text": [
        " 4.83860371248e-17\n",
        "error in v: 1.21099774193e-15\n",
        "error in u:"
       ]
      },
      {
       "output_type": "stream",
       "stream": "stdout",
       "text": [
        " 1.63775260823e-16\n",
        "error in v: 1.60230550071e-15\n",
        "error in u:"
       ]
      },
      {
       "output_type": "stream",
       "stream": "stdout",
       "text": [
        " 3.21747950695e-16\n",
        "error in v: 2.00668444853e-15\n",
        "error in u:"
       ]
      },
      {
       "output_type": "stream",
       "stream": "stdout",
       "text": [
        " 8.96786605084e-17\n",
        "error in v: 2.33516671037e-15\n",
        "At block"
       ]
      },
      {
       "output_type": "stream",
       "stream": "stdout",
       "text": [
        " 0 done 9 sweeps\n",
        "substep 1\n",
        "error in u: 2.80229020439e-15\n",
        "error in v:"
       ]
      },
      {
       "output_type": "stream",
       "stream": "stdout",
       "text": [
        " 1.03368997332e-16\n",
        "error in u: 2.31362089946e-15\n",
        "error in v:"
       ]
      },
      {
       "output_type": "stream",
       "stream": "stdout",
       "text": [
        " 8.28636931447e-17\n",
        "error in u: 1.27142184195e-15\n",
        "error in v:"
       ]
      },
      {
       "output_type": "stream",
       "stream": "stdout",
       "text": [
        " 7.52408186662e-17\n",
        "error in u: 1.4761406805e-15\n",
        "error in v:"
       ]
      },
      {
       "output_type": "stream",
       "stream": "stdout",
       "text": [
        " 6.20572926608e-17\n",
        "error in u: 8.11637656741e-16\n",
        "error in v:"
       ]
      },
      {
       "output_type": "stream",
       "stream": "stdout",
       "text": [
        " 7.39244629145e-17\n",
        "error in u: 6.0315873139e-16\n",
        "error in v:"
       ]
      },
      {
       "output_type": "stream",
       "stream": "stdout",
       "text": [
        " 1.39841739475e-16\n",
        "error in u: 8.77312816395e-16\n",
        "error in v:"
       ]
      },
      {
       "output_type": "stream",
       "stream": "stdout",
       "text": [
        " 5.57208194389e-17\n",
        "error in u: 8.49475882376e-16\n",
        "error in v:"
       ]
      },
      {
       "output_type": "stream",
       "stream": "stdout",
       "text": [
        " 6.6837524575e-17\n",
        "error in u: 1.09315859237e-15\n",
        "error in v:"
       ]
      },
      {
       "output_type": "stream",
       "stream": "stdout",
       "text": [
        " 8.65364506527e-17\n",
        "error in u: 2.28114393291e-15\n",
        "error in v:"
       ]
      },
      {
       "output_type": "stream",
       "stream": "stdout",
       "text": [
        " 8.30858299857e-17\n",
        "At block 1 done 9 sweeps\n",
        "0.000281540303406"
       ]
      },
      {
       "output_type": "stream",
       "stream": "stdout",
       "text": [
        "\n"
       ]
      },
      {
       "name": "stdout",
       "output_type": "stream",
       "stream": "stdout",
       "text": [
        "\n"
       ]
      },
      {
       "output_type": "stream",
       "stream": "stdout",
       "text": [
        "swp: 7\n",
        "substep 0\n",
        "error in u: 8.2381102838e-17\n",
        "error in v: 1.19265815604e-14\n",
        "error in u:"
       ]
      },
      {
       "output_type": "stream",
       "stream": "stdout",
       "text": [
        " 7.41530879634e-17\n",
        "error in v: 1.15369081143e-14\n",
        "error in u:"
       ]
      },
      {
       "output_type": "stream",
       "stream": "stdout",
       "text": [
        " 1.145672901e-16\n",
        "error in v: 9.38398736483e-15\n",
        "error in u:"
       ]
      },
      {
       "output_type": "stream",
       "stream": "stdout",
       "text": [
        " 7.23766466856e-17\n",
        "error in v: 8.82935425887e-15\n",
        "error in u:"
       ]
      },
      {
       "output_type": "stream",
       "stream": "stdout",
       "text": [
        " 1.27375253282e-16\n",
        "error in v: 8.93318344102e-15\n",
        "error in u:"
       ]
      },
      {
       "output_type": "stream",
       "stream": "stdout",
       "text": [
        " 7.92723076487e-17\n",
        "error in v: 9.17428696484e-15\n",
        "error in u:"
       ]
      },
      {
       "output_type": "stream",
       "stream": "stdout",
       "text": [
        " 6.91771965461e-17\n",
        "error in v: 1.59125411455e-14\n",
        "error in u:"
       ]
      },
      {
       "output_type": "stream",
       "stream": "stdout",
       "text": [
        " 3.04535387603e-17\n",
        "error in v: 8.70369901046e-15\n",
        "error in u:"
       ]
      },
      {
       "output_type": "stream",
       "stream": "stdout",
       "text": [
        " 8.04591976647e-17\n",
        "error in v: 9.98006622053e-15\n",
        "error in u:"
       ]
      },
      {
       "output_type": "stream",
       "stream": "stdout",
       "text": [
        " 9.56067156218e-17\n",
        "error in v: 6.29888474733e-15\n",
        "At block"
       ]
      },
      {
       "output_type": "stream",
       "stream": "stdout",
       "text": [
        " 0 done 9 sweeps\n",
        "substep 1\n",
        "error in u: 1.55586679107e-15\n",
        "error in v:"
       ]
      },
      {
       "output_type": "stream",
       "stream": "stdout",
       "text": [
        " 1.07828798207e-16\n",
        "error in u: 8.11799757397e-15\n",
        "error in v:"
       ]
      },
      {
       "output_type": "stream",
       "stream": "stdout",
       "text": [
        " 2.03510495063e-16\n",
        "error in u: 1.82578224274e-15\n",
        "error in v:"
       ]
      },
      {
       "output_type": "stream",
       "stream": "stdout",
       "text": [
        " 1.18254204811e-16\n",
        "error in u: 1.2108680518e-15\n",
        "error in v:"
       ]
      },
      {
       "output_type": "stream",
       "stream": "stdout",
       "text": [
        " 2.10286482604e-16\n",
        "error in u: 1.56458648671e-15\n",
        "error in v:"
       ]
      },
      {
       "output_type": "stream",
       "stream": "stdout",
       "text": [
        " 1.21467810276e-16\n",
        "error in u: 1.55756373913e-15\n",
        "error in v:"
       ]
      },
      {
       "output_type": "stream",
       "stream": "stdout",
       "text": [
        " 1.55710155226e-16\n",
        "error in u: 1.26722952474e-15\n",
        "error in v:"
       ]
      },
      {
       "output_type": "stream",
       "stream": "stdout",
       "text": [
        " 9.66125736269e-17\n",
        "error in u: 1.49377181045e-15\n",
        "error in v:"
       ]
      },
      {
       "output_type": "stream",
       "stream": "stdout",
       "text": [
        " 1.13292849891e-16\n",
        "error in u: 4.8929030366e-15\n",
        "error in v:"
       ]
      },
      {
       "output_type": "stream",
       "stream": "stdout",
       "text": [
        " 1.50321571724e-16\n",
        "error in u: 1.25532491544e-15\n",
        "error in v:"
       ]
      },
      {
       "output_type": "stream",
       "stream": "stdout",
       "text": [
        " 1.80313219676e-16\n",
        "At block 1 done 9 sweeps\n",
        "0.000430416718661"
       ]
      },
      {
       "output_type": "stream",
       "stream": "stdout",
       "text": [
        "\n"
       ]
      },
      {
       "name": "stdout",
       "output_type": "stream",
       "stream": "stdout",
       "text": [
        "\n"
       ]
      },
      {
       "output_type": "stream",
       "stream": "stdout",
       "text": [
        "swp: 8\n",
        "substep 0\n",
        "error in u: 1.049032697e-16\n",
        "error in v: 2.71076982661e-14\n",
        "error in u:"
       ]
      },
      {
       "output_type": "stream",
       "stream": "stdout",
       "text": [
        " 3.4631963168e-16\n",
        "error in v: 1.81220515868e-14\n",
        "error in u:"
       ]
      },
      {
       "output_type": "stream",
       "stream": "stdout",
       "text": [
        " 7.59226457537e-17\n",
        "error in v: 3.27819682128e-14\n",
        "error in u:"
       ]
      },
      {
       "output_type": "stream",
       "stream": "stdout",
       "text": [
        " 6.21965501393e-17\n",
        "error in v: 2.06991977696e-14\n",
        "error in u:"
       ]
      },
      {
       "output_type": "stream",
       "stream": "stdout",
       "text": [
        " 3.08898921977e-16\n",
        "error in v: 1.94723758737e-14\n",
        "error in u:"
       ]
      },
      {
       "output_type": "stream",
       "stream": "stdout",
       "text": [
        " 5.49526884464e-17\n",
        "error in v: 1.99425928641e-14\n",
        "error in u:"
       ]
      },
      {
       "output_type": "stream",
       "stream": "stdout",
       "text": [
        " 2.25582429648e-16\n",
        "error in v: 2.04114484908e-14\n",
        "error in u:"
       ]
      },
      {
       "output_type": "stream",
       "stream": "stdout",
       "text": [
        " 1.19500918871e-16\n",
        "error in v: 3.78565733388e-14\n",
        "error in u:"
       ]
      },
      {
       "output_type": "stream",
       "stream": "stdout",
       "text": [
        " 5.55450222157e-17\n",
        "error in v: 3.27497478268e-14\n",
        "error in u:"
       ]
      },
      {
       "output_type": "stream",
       "stream": "stdout",
       "text": [
        " 1.17183748731e-16\n",
        "error in v: 2.06881051741e-14\n",
        "At block"
       ]
      },
      {
       "output_type": "stream",
       "stream": "stdout",
       "text": [
        " 0 done 9 sweeps\n",
        "substep 1\n",
        "error in u: 2.14177099873e-14\n",
        "error in v:"
       ]
      },
      {
       "output_type": "stream",
       "stream": "stdout",
       "text": [
        " 1.98232958789e-16\n",
        "error in u: 2.25390109355e-14\n",
        "error in v:"
       ]
      },
      {
       "output_type": "stream",
       "stream": "stdout",
       "text": [
        " 1.79015141906e-16\n",
        "error in u: 7.63584697975e-15\n",
        "error in v:"
       ]
      },
      {
       "output_type": "stream",
       "stream": "stdout",
       "text": [
        " 1.18072752664e-16\n",
        "error in u: 5.21094473994e-15\n",
        "error in v:"
       ]
      },
      {
       "output_type": "stream",
       "stream": "stdout",
       "text": [
        " 9.31919542824e-17\n",
        "error in u: 4.22569238664e-15\n",
        "error in v:"
       ]
      },
      {
       "output_type": "stream",
       "stream": "stdout",
       "text": [
        " 8.28409926283e-17\n",
        "error in u: 3.99948870415e-15\n",
        "error in v:"
       ]
      },
      {
       "output_type": "stream",
       "stream": "stdout",
       "text": [
        " 1.62398285631e-16\n",
        "error in u: 8.81906599755e-15\n",
        "error in v:"
       ]
      },
      {
       "output_type": "stream",
       "stream": "stdout",
       "text": [
        " 2.04406818291e-16\n",
        "error in u: 4.06037559962e-15\n",
        "error in v:"
       ]
      },
      {
       "output_type": "stream",
       "stream": "stdout",
       "text": [
        " 7.19544394621e-17\n",
        "error in u: 6.00340847653e-15\n",
        "error in v:"
       ]
      },
      {
       "output_type": "stream",
       "stream": "stdout",
       "text": [
        " 5.61177011791e-17\n",
        "error in u: 2.76422824368e-15\n",
        "error in v:"
       ]
      },
      {
       "output_type": "stream",
       "stream": "stdout",
       "text": [
        " 1.74039542271e-16\n",
        "At block 1 done 9 sweeps\n",
        "0.000776808500868"
       ]
      },
      {
       "output_type": "stream",
       "stream": "stdout",
       "text": [
        "\n"
       ]
      },
      {
       "name": "stdout",
       "output_type": "stream",
       "stream": "stdout",
       "text": [
        "\n"
       ]
      },
      {
       "output_type": "stream",
       "stream": "stdout",
       "text": [
        "swp: 9\n",
        "substep 0\n",
        "error in u: 4.7037883529e-17\n",
        "error in v: 6.22142246629e-14\n",
        "error in u:"
       ]
      },
      {
       "output_type": "stream",
       "stream": "stdout",
       "text": [
        " 6.66741142886e-17\n",
        "error in v: 5.32323784612e-14\n",
        "error in u:"
       ]
      },
      {
       "output_type": "stream",
       "stream": "stdout",
       "text": [
        " 2.93111806505e-17\n",
        "error in v: 4.83993404961e-14\n",
        "error in u:"
       ]
      },
      {
       "output_type": "stream",
       "stream": "stdout",
       "text": [
        " 4.18381354533e-16\n",
        "error in v: 5.86052895458e-14\n",
        "error in u:"
       ]
      },
      {
       "output_type": "stream",
       "stream": "stdout",
       "text": [
        " 6.83346749371e-17\n",
        "error in v: 8.44969320186e-14\n",
        "error in u:"
       ]
      },
      {
       "output_type": "stream",
       "stream": "stdout",
       "text": [
        " 6.39851995745e-17\n",
        "error in v:"
       ]
      },
      {
       "output_type": "stream",
       "stream": "stdout",
       "text": [
        " 4.20030034234e-14\n",
        "error in u:"
       ]
      },
      {
       "output_type": "stream",
       "stream": "stdout",
       "text": [
        " 1.52221367237e-17\n",
        "error in v: 3.95876480415e-14\n",
        "error in u:"
       ]
      },
      {
       "output_type": "stream",
       "stream": "stdout",
       "text": [
        " 1.28942592257e-17\n",
        "error in v: 4.67168931431e-14\n",
        "error in u:"
       ]
      },
      {
       "output_type": "stream",
       "stream": "stdout",
       "text": [
        " 1.73472347598e-18\n",
        "error in v: 8.85540581842e-14\n",
        "Compute uadd, finished at full block"
       ]
      },
      {
       "output_type": "stream",
       "stream": "stdout",
       "text": [
        " n= 100 r1= 1 r2= 100\n",
        "error in v: 5.90566400318e-14\n",
        "At block"
       ]
      },
      {
       "output_type": "stream",
       "stream": "stdout",
       "text": [
        " 0 done 9 sweeps\n",
        "substep 1\n",
        "error in u: 1.24689450639e-14\n",
        "error in v:"
       ]
      },
      {
       "output_type": "stream",
       "stream": "stdout",
       "text": [
        " 8.47621464583e-17\n",
        "error in u: 7.66360964501e-15\n",
        "error in v:"
       ]
      },
      {
       "output_type": "stream",
       "stream": "stdout",
       "text": [
        " 6.92424170475e-17\n",
        "error in u: 8.75791107463e-15\n",
        "error in v:"
       ]
      },
      {
       "output_type": "stream",
       "stream": "stdout",
       "text": [
        " 3.36822372752e-17\n",
        "error in u: 6.12456548169e-15\n",
        "error in v:"
       ]
      },
      {
       "output_type": "stream",
       "stream": "stdout",
       "text": [
        " 2.61793855219e-17\n",
        "error in u: 4.13915390682e-15\n",
        "error in v:"
       ]
      },
      {
       "output_type": "stream",
       "stream": "stdout",
       "text": [
        " 5.21572242978e-17\n",
        "error in u:"
       ]
      },
      {
       "output_type": "stream",
       "stream": "stdout",
       "text": [
        " 2.06702880575e-14\n",
        "error in v:"
       ]
      },
      {
       "output_type": "stream",
       "stream": "stdout",
       "text": [
        " 6.87462837366e-17\n",
        "error in u:"
       ]
      },
      {
       "output_type": "stream",
       "stream": "stdout",
       "text": [
        " 4.47266875586e-15\n",
        "error in v:"
       ]
      },
      {
       "output_type": "stream",
       "stream": "stdout",
       "text": [
        " 1.13422264902e-17\n",
        "error in u: 1.31558130595e-14\n",
        "error in v:"
       ]
      },
      {
       "output_type": "stream",
       "stream": "stdout",
       "text": [
        " 2.19427091786e-17\n",
        "error in u: 3.33476791355e-15\n",
        "error in v:"
       ]
      },
      {
       "output_type": "stream",
       "stream": "stdout",
       "text": [
        " 8.67361737988e-18\n",
        "error in u:"
       ]
      },
      {
       "output_type": "stream",
       "stream": "stdout",
       "text": [
        " 4.96204088589e-15\n",
        "compute_vadd, finished at full block"
       ]
      },
      {
       "output_type": "stream",
       "stream": "stdout",
       "text": [
        " n= 100 r1= 100 r2= 1\n",
        "At block 1 done 9 sweeps\n",
        "0.000518700226435"
       ]
      },
      {
       "output_type": "stream",
       "stream": "stdout",
       "text": [
        "\n"
       ]
      },
      {
       "name": "stdout",
       "output_type": "stream",
       "stream": "stdout",
       "text": [
        "\n"
       ]
      },
      {
       "output_type": "stream",
       "stream": "stdout",
       "text": [
        "Iteration converged in 10 sweeps\n"
       ]
      }
     ],
     "prompt_number": 794
    },
    {
     "cell_type": "code",
     "collapsed": false,
     "input": [
      "def recompute_ucore(nd, fun):\n",
      "    cr = nd.ucore\n",
      "    r1 = cr.shape[0]\n",
      "    n = cr.shape[1]\n",
      "    r2 = cr.shape[2]\n",
      "    i_left = nd.edges[0].ind_left\n",
      "    i_right = nd.edges[1].ind_right\n",
      "    p = reshape(np.arange(n, dtype=np.int32), (-1, 1))\n",
      "    J = index_merge(i_left, p, i_right)\n",
      "    cr_new = fun(J)\n",
      "    cr_new = reshape(cr_new, (-1, r2))\n",
      "    ind = np.ravel_multi_index(nd.maxvol_left, (r1, n))\n",
      "    cr_new, dmp = np.linalg.qr(cr_new)\n",
      "    \n",
      "    cr_new = np.linalg.solve(cr_new[ind, :].T, cr_new.T).T\n",
      "    print cr_new[ind, :]\n",
      "    nd.ucore = reshape(cr_new, (r1, n, r2)).copy()  "
     ],
     "language": "python",
     "metadata": {},
     "outputs": [],
     "prompt_number": 991
    },
    {
     "cell_type": "code",
     "collapsed": false,
     "input": [
      "c = init_alg(myfun, x0)\n",
      "setup_indices(c)\n",
      "c.eps = 1e-12\n",
      "#iterate(c)\n",
      "for i in xrange(c.d):\n",
      "    c.nodes[i].edges[0].Rv = np.ones((1, 1))\n",
      "    c.nodes[i].edges[1].Rv = np.ones((1, 1))\n",
      "    c.nodes[i].edges[0].Ru = np.ones((1, 1))\n",
      "    c.nodes[i].edges[1].Ru = np.ones((1, 1))\n"
     ],
     "language": "python",
     "metadata": {},
     "outputs": [
      {
       "output_type": "stream",
       "stream": "stdout",
       "text": [
        "ind_left: [[6]]\n",
        "ind_left: [[ 6 13]]\n"
       ]
      }
     ],
     "prompt_number": 986
    },
    {
     "cell_type": "code",
     "collapsed": false,
     "input": [
      "\n",
      "print ucore_test(c, 1, ft)\n",
      "recompute_ucore(c.nodes[1], c.fun)\n",
      "print ucore_test(c, 1, ft)\n"
     ],
     "language": "python",
     "metadata": {},
     "outputs": [
      {
       "output_type": "stream",
       "stream": "stdout",
       "text": [
        "0.0289719520847\n",
        "0.0289719520847\n"
       ]
      }
     ],
     "prompt_number": 984
    },
    {
     "cell_type": "code",
     "collapsed": false,
     "input": [
      "i = 1\n",
      "recompute_ucore(c.nodes[i], c.fun)\n",
      "try:\n",
      "    c.nodes[i+1].edges[0].ind_right_add = c.nodes[i+1].edges[0].ind_right_add_new.copy()\n",
      "except:\n",
      "    print 'wow'\n",
      "    pass\n",
      "compute_uadd(c.nodes[i])\n",
      "try:\n",
      "    c.nodes[i].edges[1].ind_left_add = c.nodes[i].edges[1].ind_left_add_new.copy()\n",
      "except:\n",
      "    pass\n",
      "apply_Ru(c.nodes[i+1])\n",
      "compute_vadd(c.nodes[i+1])\n",
      "apply_Rv(c.nodes[i])\n",
      "\n",
      "print ucore_test(c, 1, ft)\n",
      "print ucore_test(c, 2, ft)\n",
      "print vcore_test(c, 1, ft)\n",
      "print vcore_test(c, 2, ft)"
     ],
     "language": "python",
     "metadata": {},
     "outputs": [
      {
       "output_type": "stream",
       "stream": "stdout",
       "text": [
        "[[  1.00000000e+00  -8.20703645e-17]\n",
        " [ -0.00000000e+00   1.00000000e+00]]\n",
        "error in u: 12.6218539067\n",
        "error in v: 1.65954205143e-16\n",
        "0.398301780111\n"
       ]
      },
      {
       "ename": "ValueError",
       "evalue": "setting an array element with a sequence.",
       "output_type": "pyerr",
       "traceback": [
        "\u001b[0;31m---------------------------------------------------------------------------\u001b[0m\n\u001b[0;31mValueError\u001b[0m                                Traceback (most recent call last)",
        "\u001b[0;32m<ipython-input-994-5112a17d332c>\u001b[0m in \u001b[0;36m<module>\u001b[0;34m()\u001b[0m\n\u001b[1;32m     16\u001b[0m \u001b[0;34m\u001b[0m\u001b[0m\n\u001b[1;32m     17\u001b[0m \u001b[0;32mprint\u001b[0m \u001b[0mucore_test\u001b[0m\u001b[0;34m(\u001b[0m\u001b[0mc\u001b[0m\u001b[0;34m,\u001b[0m \u001b[0;36m1\u001b[0m\u001b[0;34m,\u001b[0m \u001b[0mft\u001b[0m\u001b[0;34m)\u001b[0m\u001b[0;34m\u001b[0m\u001b[0m\n\u001b[0;32m---> 18\u001b[0;31m \u001b[0;32mprint\u001b[0m \u001b[0mucore_test\u001b[0m\u001b[0;34m(\u001b[0m\u001b[0mc\u001b[0m\u001b[0;34m,\u001b[0m \u001b[0;36m2\u001b[0m\u001b[0;34m,\u001b[0m \u001b[0mft\u001b[0m\u001b[0;34m)\u001b[0m\u001b[0;34m\u001b[0m\u001b[0m\n\u001b[0m\u001b[1;32m     19\u001b[0m \u001b[0;32mprint\u001b[0m \u001b[0mvcore_test\u001b[0m\u001b[0;34m(\u001b[0m\u001b[0mc\u001b[0m\u001b[0;34m,\u001b[0m \u001b[0;36m1\u001b[0m\u001b[0;34m,\u001b[0m \u001b[0mft\u001b[0m\u001b[0;34m)\u001b[0m\u001b[0;34m\u001b[0m\u001b[0m\n\u001b[1;32m     20\u001b[0m \u001b[0;32mprint\u001b[0m \u001b[0mvcore_test\u001b[0m\u001b[0;34m(\u001b[0m\u001b[0mc\u001b[0m\u001b[0;34m,\u001b[0m \u001b[0;36m2\u001b[0m\u001b[0;34m,\u001b[0m \u001b[0mft\u001b[0m\u001b[0;34m)\u001b[0m\u001b[0;34m\u001b[0m\u001b[0m\n",
        "\u001b[0;32m<ipython-input-669-e65f144a8e2e>\u001b[0m in \u001b[0;36mucore_test\u001b[0;34m(c, k, ft)\u001b[0m\n\u001b[1;32m     15\u001b[0m     \u001b[0mft1\u001b[0m \u001b[0;34m=\u001b[0m \u001b[0mreshape\u001b[0m\u001b[0;34m(\u001b[0m\u001b[0mft\u001b[0m\u001b[0;34m,\u001b[0m \u001b[0;34m(\u001b[0m\u001b[0mq0\u001b[0m\u001b[0;34m.\u001b[0m\u001b[0mshape\u001b[0m\u001b[0;34m[\u001b[0m\u001b[0;36m0\u001b[0m\u001b[0;34m]\u001b[0m\u001b[0;34m,\u001b[0m \u001b[0;34m-\u001b[0m\u001b[0;36m1\u001b[0m\u001b[0;34m)\u001b[0m\u001b[0;34m)\u001b[0m\u001b[0;34m\u001b[0m\u001b[0m\n\u001b[1;32m     16\u001b[0m     \u001b[0;31m#print q0[ind, :]\u001b[0m\u001b[0;34m\u001b[0m\u001b[0;34m\u001b[0m\u001b[0m\n\u001b[0;32m---> 17\u001b[0;31m     \u001b[0;32mreturn\u001b[0m \u001b[0mnp\u001b[0m\u001b[0;34m.\u001b[0m\u001b[0mlinalg\u001b[0m\u001b[0;34m.\u001b[0m\u001b[0mnorm\u001b[0m\u001b[0;34m(\u001b[0m\u001b[0mnp\u001b[0m\u001b[0;34m.\u001b[0m\u001b[0mdot\u001b[0m\u001b[0;34m(\u001b[0m\u001b[0mq0\u001b[0m\u001b[0;34m,\u001b[0m \u001b[0mft1\u001b[0m\u001b[0;34m[\u001b[0m\u001b[0mind\u001b[0m\u001b[0;34m,\u001b[0m \u001b[0;34m:\u001b[0m\u001b[0;34m]\u001b[0m\u001b[0;34m)\u001b[0m \u001b[0;34m-\u001b[0m \u001b[0mft1\u001b[0m\u001b[0;34m)\u001b[0m\u001b[0;34m\u001b[0m\u001b[0m\n\u001b[0m\u001b[1;32m     18\u001b[0m \u001b[0;34m\u001b[0m\u001b[0m\n\u001b[1;32m     19\u001b[0m \u001b[0;32mdef\u001b[0m \u001b[0mvcore_test\u001b[0m\u001b[0;34m(\u001b[0m\u001b[0mc\u001b[0m\u001b[0;34m,\u001b[0m \u001b[0mk\u001b[0m\u001b[0;34m,\u001b[0m \u001b[0mft\u001b[0m\u001b[0;34m)\u001b[0m\u001b[0;34m:\u001b[0m\u001b[0;34m\u001b[0m\u001b[0m\n",
        "\u001b[0;31mValueError\u001b[0m: setting an array element with a sequence."
       ]
      }
     ],
     "prompt_number": 994
    },
    {
     "cell_type": "markdown",
     "metadata": {},
     "source": [
      "We can try to add basis function; We are actually talking about \"nested\" cross approximation. \n",
      "when in the (rn) x R situation. This effectively adds, hmm, zeros, to the lower part, so we have to find basis rows\n",
      "\n",
      "| A |\n",
      "| X |\n",
      "\n"
     ]
    },
    {
     "cell_type": "code",
     "collapsed": false,
     "input": [
      "recompute_ucore(c.nodes[1], c.fun)"
     ],
     "language": "python",
     "metadata": {},
     "outputs": [
      {
       "output_type": "stream",
       "stream": "stdout",
       "text": [
        "[[  1.00000000e+00  -8.20703645e-17]\n",
        " [ -0.00000000e+00   1.00000000e+00]]\n"
       ]
      }
     ],
     "prompt_number": 993
    },
    {
     "cell_type": "code",
     "collapsed": false,
     "input": [
      "#X = get_approx(c, d-2)\n",
      "X = get_approx(c, 1)\n",
      "a1 = tt.tensor.from_list(X)\n",
      "print np.linalg.norm(a1.full() - ft) / np.linalg.norm(ft)\n",
      "#print a1.round(1e-6)\n",
      "print a1"
     ],
     "language": "python",
     "metadata": {},
     "outputs": [
      {
       "output_type": "stream",
       "stream": "stdout",
       "text": [
        "2.24851337243e-05\n",
        "This is a 3-dimensional tensor \n",
        "r(0)=1, n(0)=15 \n",
        "r(1)=11, n(1)=15 \n",
        "r(2)=11, n(2)=15 \n",
        "r(3)=1 \n",
        "\n"
       ]
      }
     ],
     "prompt_number": 612
    },
    {
     "cell_type": "code",
     "collapsed": false,
     "input": [
      "vcore_test(c, 2, ft)"
     ],
     "language": "python",
     "metadata": {},
     "outputs": [
      {
       "output_type": "stream",
       "stream": "stdout",
       "text": [
        "7.55397992531e-07\n"
       ]
      }
     ],
     "prompt_number": 623
    },
    {
     "cell_type": "code",
     "collapsed": false,
     "input": [
      "def ucore_test(c, k, ft):\n",
      "    q0 = c.nodes[0].ucore\n",
      "    r1 = c.nodes[0].ucore.shape[2]\n",
      "    for i in xrange(1, k):\n",
      "        q0 = np.tensordot(q0, c.nodes[i].ucore, 1)\n",
      "        r1 = c.nodes[i].ucore.shape[2]    \n",
      "    q0 = reshape(q0, (-1, r1))\n",
      "    e = np.eye(r1)\n",
      "    ind = [[]] * r1\n",
      "    for i in xrange(r1):\n",
      "        for j in xrange(q0.shape[0]):\n",
      "            er = np.linalg.norm(q0[j, :] - e[:, i])\n",
      "            if er < 1e-8:\n",
      "                ind[i] = j\n",
      "    ft1 = reshape(ft, (q0.shape[0], -1))\n",
      "    #print q0[ind, :]\n",
      "    return np.linalg.norm(np.dot(q0, ft1[ind, :]) - ft1)\n",
      "\n",
      "def vcore_test(c, k, ft):\n",
      "    d = c.d\n",
      "    q0 = c.nodes[d-1].vcore\n",
      "    r1 = c.nodes[d-1].vcore.shape[0]\n",
      "    for i in xrange(d-2, k-1, -1):\n",
      "        q0 = np.tensordot(c.nodes[i].vcore, q0, 1)\n",
      "        r1 = c.nodes[i].vcore.shape[0]\n",
      "    q0 = reshape(q0, (r1, -1))\n",
      "    e = np.eye(r1)\n",
      "    ind = [[]] * r1\n",
      "    for i in xrange(r1):\n",
      "        for j in xrange(q0.shape[1]):\n",
      "            er = np.linalg.norm(q0[:, j] - e[:, i])\n",
      "            if er < 1e-8:\n",
      "                ind[i] = j\n",
      "    #print q0[:, ind]\n",
      "    ft1 = reshape(ft, (-1, q0.shape[1]))\n",
      "    q0 = q0.T\n",
      "    ft1 = ft1.T\n",
      "    return np.linalg.norm(np.dot(q0, ft1[ind, :]) - ft1)\n",
      "    \n",
      "#Find identity submatrix\n",
      "#ucore_test(c, 3, ft)\n",
      "vcore_test(c, 1, ft)"
     ],
     "language": "python",
     "metadata": {},
     "outputs": [
      {
       "metadata": {},
       "output_type": "pyout",
       "prompt_number": 669,
       "text": [
        "3.7681584533157926"
       ]
      }
     ],
     "prompt_number": 669
    },
    {
     "cell_type": "code",
     "collapsed": false,
     "input": [],
     "language": "python",
     "metadata": {},
     "outputs": [
      {
       "output_type": "stream",
       "stream": "stdout",
       "text": [
        "3.95089454977e-05\n"
       ]
      }
     ],
     "prompt_number": 584
    },
    {
     "cell_type": "code",
     "collapsed": false,
     "input": [
      "w1 = reshape(np.tensordot(c.nodes[1].vcore, c.nodes[2].vcore, 1), (-1, n * n)).T\n",
      "ft1 = reshape(ft1, (-1, n * n)).T\n",
      "#jj = maxvol(w1)\n",
      "np.linalg.norm(np.dot(w1, ft1[jj, :]) - ft1)"
     ],
     "language": "python",
     "metadata": {},
     "outputs": [
      {
       "metadata": {},
       "output_type": "pyout",
       "prompt_number": 9,
       "text": [
        "2.8479388179413911"
       ]
      }
     ],
     "prompt_number": 9
    },
    {
     "cell_type": "code",
     "collapsed": false,
     "input": [
      "w1 = reshape(np.tensordot(c.nodes[0].ucore, c.nodes[1].ucore, 1), (16, -1))\n",
      "ft1 = reshape(ft, (16, -1))\n",
      "jj = maxvol(w1)\n",
      "#print w1[jj, :]\n",
      "print np.linalg.norm(np.dot(w1, ft1[jj, :]) - ft1)\n"
     ],
     "language": "python",
     "metadata": {},
     "outputs": [
      {
       "ename": "ValueError",
       "evalue": "total size of new array must be unchanged",
       "output_type": "pyerr",
       "traceback": [
        "\u001b[0;31m---------------------------------------------------------------------------\u001b[0m\n\u001b[0;31mValueError\u001b[0m                                Traceback (most recent call last)",
        "\u001b[0;32m<ipython-input-241-5bbfc6d6e573>\u001b[0m in \u001b[0;36m<module>\u001b[0;34m()\u001b[0m\n\u001b[0;32m----> 1\u001b[0;31m \u001b[0mw1\u001b[0m \u001b[0;34m=\u001b[0m \u001b[0mreshape\u001b[0m\u001b[0;34m(\u001b[0m\u001b[0mnp\u001b[0m\u001b[0;34m.\u001b[0m\u001b[0mtensordot\u001b[0m\u001b[0;34m(\u001b[0m\u001b[0mc\u001b[0m\u001b[0;34m.\u001b[0m\u001b[0mnodes\u001b[0m\u001b[0;34m[\u001b[0m\u001b[0;36m0\u001b[0m\u001b[0;34m]\u001b[0m\u001b[0;34m.\u001b[0m\u001b[0mucore\u001b[0m\u001b[0;34m,\u001b[0m \u001b[0mc\u001b[0m\u001b[0;34m.\u001b[0m\u001b[0mnodes\u001b[0m\u001b[0;34m[\u001b[0m\u001b[0;36m1\u001b[0m\u001b[0;34m]\u001b[0m\u001b[0;34m.\u001b[0m\u001b[0mucore\u001b[0m\u001b[0;34m,\u001b[0m \u001b[0;36m1\u001b[0m\u001b[0;34m)\u001b[0m\u001b[0;34m,\u001b[0m \u001b[0;34m(\u001b[0m\u001b[0;36m16\u001b[0m\u001b[0;34m,\u001b[0m \u001b[0;34m-\u001b[0m\u001b[0;36m1\u001b[0m\u001b[0;34m)\u001b[0m\u001b[0;34m)\u001b[0m\u001b[0;34m\u001b[0m\u001b[0m\n\u001b[0m\u001b[1;32m      2\u001b[0m \u001b[0mft1\u001b[0m \u001b[0;34m=\u001b[0m \u001b[0mreshape\u001b[0m\u001b[0;34m(\u001b[0m\u001b[0mft\u001b[0m\u001b[0;34m,\u001b[0m \u001b[0;34m(\u001b[0m\u001b[0;36m16\u001b[0m\u001b[0;34m,\u001b[0m \u001b[0;34m-\u001b[0m\u001b[0;36m1\u001b[0m\u001b[0;34m)\u001b[0m\u001b[0;34m)\u001b[0m\u001b[0;34m\u001b[0m\u001b[0m\n\u001b[1;32m      3\u001b[0m \u001b[0mjj\u001b[0m \u001b[0;34m=\u001b[0m \u001b[0mmaxvol\u001b[0m\u001b[0;34m(\u001b[0m\u001b[0mw1\u001b[0m\u001b[0;34m)\u001b[0m\u001b[0;34m\u001b[0m\u001b[0m\n\u001b[1;32m      4\u001b[0m \u001b[0;31m#print w1[jj, :]\u001b[0m\u001b[0;34m\u001b[0m\u001b[0;34m\u001b[0m\u001b[0m\n\u001b[1;32m      5\u001b[0m \u001b[0;32mprint\u001b[0m \u001b[0mnp\u001b[0m\u001b[0;34m.\u001b[0m\u001b[0mlinalg\u001b[0m\u001b[0;34m.\u001b[0m\u001b[0mnorm\u001b[0m\u001b[0;34m(\u001b[0m\u001b[0mnp\u001b[0m\u001b[0;34m.\u001b[0m\u001b[0mdot\u001b[0m\u001b[0;34m(\u001b[0m\u001b[0mw1\u001b[0m\u001b[0;34m,\u001b[0m \u001b[0mft1\u001b[0m\u001b[0;34m[\u001b[0m\u001b[0mjj\u001b[0m\u001b[0;34m,\u001b[0m \u001b[0;34m:\u001b[0m\u001b[0;34m]\u001b[0m\u001b[0;34m)\u001b[0m \u001b[0;34m-\u001b[0m \u001b[0mft1\u001b[0m\u001b[0;34m)\u001b[0m\u001b[0;34m\u001b[0m\u001b[0m\n",
        "\u001b[0;32m<ipython-input-1-8bcc8cf8f16e>\u001b[0m in \u001b[0;36mreshape\u001b[0;34m(a, sz)\u001b[0m\n\u001b[1;32m      9\u001b[0m \"\"\"\n\u001b[1;32m     10\u001b[0m \u001b[0;32mdef\u001b[0m \u001b[0mreshape\u001b[0m\u001b[0;34m(\u001b[0m\u001b[0ma\u001b[0m\u001b[0;34m,\u001b[0m \u001b[0msz\u001b[0m\u001b[0;34m)\u001b[0m\u001b[0;34m:\u001b[0m\u001b[0;34m\u001b[0m\u001b[0m\n\u001b[0;32m---> 11\u001b[0;31m     \u001b[0;32mreturn\u001b[0m \u001b[0mnp\u001b[0m\u001b[0;34m.\u001b[0m\u001b[0mreshape\u001b[0m\u001b[0;34m(\u001b[0m\u001b[0ma\u001b[0m\u001b[0;34m,\u001b[0m \u001b[0msz\u001b[0m\u001b[0;34m,\u001b[0m \u001b[0morder\u001b[0m \u001b[0;34m=\u001b[0m \u001b[0;34m'F'\u001b[0m\u001b[0;34m)\u001b[0m\u001b[0;34m\u001b[0m\u001b[0m\n\u001b[0m\u001b[1;32m     12\u001b[0m \u001b[0;34m\u001b[0m\u001b[0m\n\u001b[1;32m     13\u001b[0m \u001b[0;32mdef\u001b[0m \u001b[0mmkron\u001b[0m\u001b[0;34m(\u001b[0m\u001b[0ma\u001b[0m\u001b[0;34m,\u001b[0m \u001b[0mb\u001b[0m\u001b[0;34m)\u001b[0m\u001b[0;34m:\u001b[0m\u001b[0;34m\u001b[0m\u001b[0m\n",
        "\u001b[0;32m/Users/ivan/anaconda/lib/python2.7/site-packages/numpy/core/fromnumeric.pyc\u001b[0m in \u001b[0;36mreshape\u001b[0;34m(a, newshape, order)\u001b[0m\n\u001b[1;32m    216\u001b[0m     \u001b[0;32mexcept\u001b[0m \u001b[0mAttributeError\u001b[0m\u001b[0;34m:\u001b[0m\u001b[0;34m\u001b[0m\u001b[0m\n\u001b[1;32m    217\u001b[0m         \u001b[0;32mreturn\u001b[0m \u001b[0m_wrapit\u001b[0m\u001b[0;34m(\u001b[0m\u001b[0ma\u001b[0m\u001b[0;34m,\u001b[0m \u001b[0;34m'reshape'\u001b[0m\u001b[0;34m,\u001b[0m \u001b[0mnewshape\u001b[0m\u001b[0;34m,\u001b[0m \u001b[0morder\u001b[0m\u001b[0;34m=\u001b[0m\u001b[0morder\u001b[0m\u001b[0;34m)\u001b[0m\u001b[0;34m\u001b[0m\u001b[0m\n\u001b[0;32m--> 218\u001b[0;31m     \u001b[0;32mreturn\u001b[0m \u001b[0mreshape\u001b[0m\u001b[0;34m(\u001b[0m\u001b[0mnewshape\u001b[0m\u001b[0;34m,\u001b[0m \u001b[0morder\u001b[0m\u001b[0;34m=\u001b[0m\u001b[0morder\u001b[0m\u001b[0;34m)\u001b[0m\u001b[0;34m\u001b[0m\u001b[0m\n\u001b[0m\u001b[1;32m    219\u001b[0m \u001b[0;34m\u001b[0m\u001b[0m\n\u001b[1;32m    220\u001b[0m \u001b[0;34m\u001b[0m\u001b[0m\n",
        "\u001b[0;31mValueError\u001b[0m: total size of new array must be unchanged"
       ]
      }
     ],
     "prompt_number": 241
    },
    {
     "cell_type": "code",
     "collapsed": false,
     "input": [
      "a1 = reshape(c.nodes[0].ucore, (10, 3))\n",
      "ft1 = reshape(ft, (10, -1))\n",
      "ii = maxvol(a1)\n",
      "np.linalg.norm(np.dot(a1, ft1[ii, :]) - ft1)\n",
      "w1 = reshape(np.tensordot(c.nodes[1].vcore, c.nodes[2].vcore, 1), (-1, 100)).T\n",
      "jj = maxvol(w1)\n",
      "print w1.shape\n",
      "print ft1[:, jj].shape\n"
     ],
     "language": "python",
     "metadata": {},
     "outputs": [
      {
       "output_type": "stream",
       "stream": "stdout",
       "text": [
        "(100, 4)\n",
        "(10, 4)\n"
       ]
      },
      {
       "ename": "IndexError",
       "evalue": "index 57 is out of bounds for axis 0 with size 10",
       "output_type": "pyerr",
       "traceback": [
        "\u001b[0;31m---------------------------------------------------------------------------\u001b[0m\n\u001b[0;31mIndexError\u001b[0m                                Traceback (most recent call last)",
        "\u001b[0;32m<ipython-input-53-5d9b62c0eb89>\u001b[0m in \u001b[0;36m<module>\u001b[0;34m()\u001b[0m\n\u001b[1;32m      7\u001b[0m \u001b[0;32mprint\u001b[0m \u001b[0mw1\u001b[0m\u001b[0;34m.\u001b[0m\u001b[0mshape\u001b[0m\u001b[0;34m\u001b[0m\u001b[0m\n\u001b[1;32m      8\u001b[0m \u001b[0;32mprint\u001b[0m \u001b[0mft1\u001b[0m\u001b[0;34m[\u001b[0m\u001b[0;34m:\u001b[0m\u001b[0;34m,\u001b[0m \u001b[0mjj\u001b[0m\u001b[0;34m]\u001b[0m\u001b[0;34m.\u001b[0m\u001b[0mshape\u001b[0m\u001b[0;34m\u001b[0m\u001b[0m\n\u001b[0;32m----> 9\u001b[0;31m \u001b[0mft1\u001b[0m\u001b[0;34m[\u001b[0m\u001b[0mjj\u001b[0m\u001b[0;34m]\u001b[0m\u001b[0;34m\u001b[0m\u001b[0m\n\u001b[0m",
        "\u001b[0;31mIndexError\u001b[0m: index 57 is out of bounds for axis 0 with size 10"
       ]
      }
     ],
     "prompt_number": 53
    },
    {
     "cell_type": "code",
     "collapsed": false,
     "input": [
      "w1 = reshape(np.tensordot(c.nodes[1].vcore, c.nodes[2].vcore, 1), (-1, 100)).T\n",
      "#w2 = reshape(c.nodes[2].vcore, (-1, 4)).T\n",
      "#print w1\n",
      "#ii = [15, 12]\n",
      "#ft1 = reshape(ft, (4, -1))\n",
      "#ft1 = ft1[c.nodes[0].maxvol_left[1], :]\n",
      "#vadd\n",
      "#ft2 = reshape(ft, (16, -1))\n",
      "#print np.dot(w1, ft1[:, ii].T) - ft1.T\n",
      "ii = c.nodes[0].maxvol_left[1]\n",
      "ft1 = reshape(ft, (10, -1))\n",
      "q = np.dot(ft1[ii, :], w1)\n",
      "#ft 10 x 100 = A * (4 x 100)\n",
      "cf = np.dot(np.linalg.pinv(w1), ft1.T)\n",
      "np.linalg.norm(np.dot(w1, cf) - ft1.T)"
     ],
     "language": "python",
     "metadata": {},
     "outputs": [
      {
       "metadata": {},
       "output_type": "pyout",
       "prompt_number": 11,
       "text": [
        "29.259520249868288"
       ]
      }
     ],
     "prompt_number": 11
    },
    {
     "cell_type": "code",
     "collapsed": false,
     "input": [
      "print reshape(ft1, (-1, 4))[:, c.nodes[2].maxvol_right[0]].shape\n",
      "print vadd.shape"
     ],
     "language": "python",
     "metadata": {},
     "outputs": [
      {
       "output_type": "stream",
       "stream": "stdout",
       "text": [
        "(8, 2)\n",
        "(8, 1)\n"
       ]
      }
     ],
     "prompt_number": 599
    },
    {
     "cell_type": "code",
     "collapsed": false,
     "input": [
      "reshape(c.nodes[2].vcore, (2, -1)).T[c.nodes[2].maxvol_right[0], :]\n",
      "w0 = reshape(c.nodes[1].vcore, (2, -1)).T\n",
      "ft1 = ft[:, :, :][:, :, c.nodes[2].maxvol_right[0]]\n",
      "ft1.shape\n",
      "ft1[1, :, :]\n",
      "#ft1 = reshape(ft1, (4, 8))\n",
      "#ft1 = ft1.T\n",
      "#np.dot(w0, ft1[jj, :]) - ft1"
     ],
     "language": "python",
     "metadata": {},
     "outputs": [
      {
       "metadata": {},
       "output_type": "pyout",
       "prompt_number": 668,
       "text": [
        "array([[ 8,  2],\n",
        "       [16,  4],\n",
        "       [24,  6],\n",
        "       [32,  8]])"
       ]
      }
     ],
     "prompt_number": 668
    }
   ],
   "metadata": {}
  }
 ]
}