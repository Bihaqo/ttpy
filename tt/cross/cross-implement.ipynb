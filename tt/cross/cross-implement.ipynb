{
 "metadata": {
  "name": "",
  "signature": "sha256:c02ffdb249d6bf2b50405b33f5957a1cd00dd430e2889c9498f4da58fd5cc1af"
 },
 "nbformat": 3,
 "nbformat_minor": 0,
 "worksheets": [
  {
   "cells": [
    {
     "cell_type": "code",
     "collapsed": false,
     "input": [
      "import numpy as np\n",
      "from numpy.linalg import qr\n",
      "import sys\n",
      "sys.path.append(\"/Users/ivan/work/python/ttpy/\") \n",
      "import tt\n",
      "from tt.maxvol import maxvol\n",
      "\"\"\" There are quantitites associated with edges; \n",
      "    There are quantitites associated with nodes; \n",
      "\"\"\"\n",
      "def reshape(a, sz):\n",
      "    return np.reshape(a, sz, order = 'F')\n",
      "\n",
      "def mkron(a, b):\n",
      "    return np.kron(a, b)\n",
      "\n",
      "\n",
      "class node:\n",
      "    def __init__(self):\n",
      "        self.edges = [None for i in xrange(2)]\n",
      "        \n",
      "    \n",
      "    \"\"\" Here we put in typical recipies for what we can do with a node \"\"\"\n",
      "    \n",
      "    @staticmethod\n",
      "    def left_qr_update(nd):\n",
      "        cr = nd.core.copy()\n",
      "        r1, n1, r2 = cr.shape\n",
      "        cr = reshape(cr, (r1, n1 * r2))\n",
      "        cr = np.dot(nd.edges[0].R, cr)\n",
      "        r1 = cr.shape[0]\n",
      "        cr = reshape(cr, (r1 * n1, r2))\n",
      "        q, R = qr(cr)\n",
      "        nd.core = reshape(q, (r1, n1, r2)).copy()\n",
      "        nd.edges[1].R = R.copy()\n",
      "    \n",
      "class edge:\n",
      "    def __init__(self):\n",
      "        self.nodes = [None for i in xrange(2)]\n",
      "\n",
      "    \n",
      "    \"\"\" Here we put in typical recipies for what we can do with an edge \"\"\"\n",
      "    @staticmethod\n",
      "    def init_qr_boundary(e):\n",
      "        e.R = np.ones((1, 1))\n",
      "\n",
      "\n",
      "\n",
      "            \n",
      "    \n",
      "class tt_as_tree:\n",
      "    def __init__(self, d, node_type, edge_type, init_boundary = None):\n",
      "        self.d = d\n",
      "        self.nodes = [node_type() for i in xrange(d)]\n",
      "        self.edges = [edge_type() for i in xrange(d + 1)]\n",
      "        #  None - N - N - N - None\n",
      "        for i in xrange(d):\n",
      "            self.nodes[i].edges[0] = self.edges[i]\n",
      "            self.nodes[i].edges[1] = self.edges[i + 1]\n",
      "        \n",
      "        if init_boundary is not None:\n",
      "            init_boundary(self.edges[0])\n",
      "            init_boundary(self.edges[d])\n",
      "        \n",
      "        for i in xrange(d - 1):\n",
      "            self.edges[i].nodes[1] = self.nodes[i]\n",
      "            self.edges[i + 1].nodes[0] = self.nodes[i]\n",
      "        \n",
      "        self.edges[0].nodes[0] = None\n",
      "        self.edges[d].nodes[1] = None\n",
      "        \n",
      "    @staticmethod\n",
      "    def from_tt(b, *args):\n",
      "        c = tt_as_tree(b.d, *args)\n",
      "        for i in xrange(b.d):\n",
      "            c.nodes[i].core = b.core[b.ps[i] - 1:b.ps[i + 1] - 1].reshape(b.r[i], b.n[i], b.r[i + 1]).copy()\n",
      "        return c\n",
      "\n",
      "    def lr_sweep(self, node_update, edge_update=None):\n",
      "        for i in xrange(self.d):\n",
      "            node_update(self.nodes[i])\n",
      "            if edge_update is not None:\n",
      "                edge_update(self.edges[i + 1])\n",
      "\n",
      "    def to_tt(self):\n",
      "        core = [self.nodes[i].core for i in xrange(self.d)]\n",
      "        return tt.tensor.from_list(core)\n",
      "\n",
      "\n",
      "def left_qr_update(nd):\n",
      "    cr = nd.core.copy()\n",
      "    r1, n1, r2 = cr.shape\n",
      "    cr = reshape(cr, (r1, n1 * r2))\n",
      "    cr = np.dot(nd.edges[0].R, cr)\n",
      "    r1 = cr.shape[0]\n",
      "    cr = reshape(cr, (r1 * n1, r2))\n",
      "    q, R = qr(cr)\n",
      "    nd.core = reshape(q, (r1, n1, r2)).copy()\n",
      "    nd.edges[1].R = R.copy()\n",
      "\n",
      "def left_qr(R, Y):\n",
      "    r1, n, m, r2 = Y.shape\n",
      "    r1 = R.shape[1]\n",
      "    Y = np.dot(R, reshape(Y, (r1, -1)))\n",
      "    r1 = Y.shape[0]\n",
      "    Y = reshape(Y, (r1 * n * m, r2))\n",
      "    Y, R_new = np.linalg.qr(Y)\n",
      "    Y = reshape(Y, (r1, n, m, -1))\n",
      "    return Y, R_new\n",
      "\n",
      "\n",
      "def right_qr(nd):\n",
      "    Y = nd.Ycore\n",
      "    R = nd.edges[1].R\n",
      "    r1, n, m, r2 = Y.shape\n",
      "    r2 = R.shape[0]\n",
      "    Y = np.dot(reshape(Y, (-1, r2)), R)\n",
      "    r2 = Y.shape[1]\n",
      "    Y = reshape(Y, (r1, n * m * r2))\n",
      "    Y = Y.T #Y is n m r2 x r1\n",
      "    Y, R_new = np.linalg.qr(Y) # \n",
      "    Y = reshape(Y, (n, m, r2, -1))\n",
      "    Y = np.transpose(Y, (3, 0, 1, 2))\n",
      "    R_new = R_new.T\n",
      "    nd.Ycore = Y.copy()\n",
      "    nd.edges[0].R = R_new.copy()\n",
      "\n",
      "\n",
      "def right_R(Y, R):\n",
      "    r1, n, m, r2 = Y.shape\n",
      "    r2 = R.shape[0]\n",
      "    Y = np.dot(reshape(Y, (-1, r2)), R)\n",
      "    Y = reshape(Y, (r1, n, m, -1))\n",
      "    return Y\n",
      "\n",
      "\n",
      "def left_R(nd):\n",
      "    Y = nd.Ycore\n",
      "    R = nd.edges[0].R\n",
      "    r1, n, m, r2 = Y.shape\n",
      "    r1 = R.shape[1]\n",
      "    Y = np.dot(R, reshape(Y, (r1, -1)))\n",
      "    Y = reshape(Y, (-1, n, m, r2))\n",
      "    nd.Ycore = Y\n",
      "\n",
      "\n",
      "def left_qr(nd):\n",
      "    Y = nd.Ycore\n",
      "    r1, n, m, r2 = Y.shape\n",
      "    Y = reshape(Y, (r1 * n * m, r2))\n",
      "    Y, R_new = np.linalg.qr(Y)\n",
      "    Y = reshape(Y, (r1, n, m, -1))\n",
      "    nd.Ycore = Y\n",
      "    nd.edges[1].R = R_new.copy()\n",
      "\n",
      "\n",
      "\n",
      "\n",
      "def init_alg(fun, x0):\n",
      "    d = x0.d\n",
      "    c = tt_as_tree(d, node, edge)\n",
      "    x1 = tt.tensor.to_list(x0)\n",
      "    c.fun = fun #Save the function\n",
      "    for i in xrange(d):\n",
      "        c.nodes[i].ucore = x1[i].copy()\n",
      "        c.nodes[i].vcore = x1[i].copy()\n",
      "    for i in xrange(d+1):\n",
      "        c.edges[i].Ru = []\n",
      "        c.edges[i].Rv = []\n",
      "    \n",
      "    c.edges[0].Ru = np.ones((1, 1))\n",
      "    c.edges[d].Rv = np.ones((1, 1))\n",
      "    c.edges[0].ind_left = np.empty((1, 0), dtype=np.int32)\n",
      "    c.edges[d].ind_right = np.empty((1, 0), dtype=np.int32)\n",
      "    return c\n",
      "\n",
      "\n",
      "\n",
      "def lr_sweep(c):\n",
      "    d = c.d\n",
      "    for i in xrange(d - 1):\n",
      "        ##Put the R inside\n",
      "        nd = c.nodes[i]\n",
      "        pass\n"
     ],
     "language": "python",
     "metadata": {},
     "outputs": [],
     "prompt_number": 193
    },
    {
     "cell_type": "code",
     "collapsed": false,
     "input": [
      "\"\"\" Main new functions \"\"\" \n",
      "def left_qr_maxvol(nd):\n",
      "    cr = nd.ucore.copy()\n",
      "    r1, n1, r2 = cr.shape\n",
      "    cr = np.tensordot(nd.edges[0].Ru, cr, 1)\n",
      "    #nd.edges[0].Ru = np.ones((1, 1))\n",
      "    r1 = cr.shape[0]\n",
      "    cr = reshape(cr, (r1 * n1, r2))\n",
      "    q, Ru = qr(cr)\n",
      "    ind = maxvol(q)\n",
      "    Ru = np.dot(q[ind, :], Ru)\n",
      "    q = np.linalg.solve(q[ind, :].T, q.T).T\n",
      "    nd.ucore = reshape(q, (r1, n1, r2)).copy()\n",
      "    nd.edges[1].Ru = Ru.copy()\n",
      "    nd.maxvol_left = np.unravel_index(ind, (r1, n1), order='F')\n",
      "    #The philosophical question if this index should be stored on the edge or in the node\n",
      "    #The typical recomputation:\n",
      "    #Take left index somewhere and update. For the first node it comes from the left edge\n",
      "    #So, we can store ind_left on an edge, whereas ind_left_add in the node\n",
      "    \"\"\" This is a logically separate function \"\"\"\n",
      "    i_left = nd.edges[0].ind_left\n",
      "    #Update index\n",
      "    w1 = mkron(np.ones((n1, 1), dtype=np.int32), i_left)\n",
      "    w2 = mkron(reshape(np.arange(n1, dtype=np.int32),(-1, 1)), np.ones((r1, 1), dtype=np.int32))\n",
      "    i_next = np.hstack((w1, w2))\n",
      "    i_next = reshape(i_next, (r1 * n1, -1))\n",
      "    i_next = i_next[ind, :]\n",
      "    \n",
      "    nd.edges[1].ind_left = i_next.copy()\n",
      "    print 'ind_left:', nd.edges[1].ind_left\n",
      "    nd.edges[1].ind_left_add = i_next.copy()\n",
      "    \n",
      "    \n",
      "def right_qr_maxvol(nd):\n",
      "    cr = nd.vcore.copy()\n",
      "    r1, n, r2 = cr.shape\n",
      "    Rv = nd.edges[1].Rv.copy()\n",
      "    cr = np.tensordot(cr, Rv, 1)\n",
      "    r2 = cr.shape[2]\n",
      "    cr = reshape(cr, (r1, -1))\n",
      "    cr = cr.T\n",
      "    q, Rv = np.linalg.qr(cr)\n",
      "    ind = maxvol(q)\n",
      "    Rv = np.dot(q[ind, :], Rv)\n",
      "    q = np.linalg.solve(q[ind, :].T, q.T).T\n",
      "    nd.edges[0].Rv = Rv.T.copy()\n",
      "    q = reshape(q.T, (-1, n, r2))\n",
      "    nd.vcore = q.copy()\n",
      "    nd.maxvol_right = np.unravel_index(ind, (n, r2), order='F')\n",
      "    \"\"\" Recomputation of right indices goes here \"\"\" \n",
      "    #i_right = nd.edges[1].ind_right\n",
      "    #w2 = mkron(np.ones((n, 1), dtype=np.int32), i_right)\n",
      "    \"\"\" Finally, update indices \"\"\"\n",
      "    i_right = nd.edges[1].ind_right\n",
      "    #print 'i_right: ', i_right\n",
      "    w1 = mkron(np.ones((r2, 1), dtype=np.int32), reshape(np.arange(n, dtype=np.int32),(-1, 1)))\n",
      "    #print 'w1:', w1\n",
      "    try:\n",
      "        w2 = mkron(i_right, np.ones((n, 1), dtype=np.int32))\n",
      "        i_next = np.hstack((w1, w2))\n",
      "        #print 'w2:', w2\n",
      "        #print 'i_next:', i_next\n",
      "    except:\n",
      "        i_next = w1\n",
      "\n",
      "    \n",
      "    #try:\n",
      "    #    w2 = mkron(i_right, np.ones((n, 1), dtype=np.int32))\n",
      "    #except: \n",
      "    #    w2 = np.ones((n, 1), dtype=np.int32)\n",
      "    #w1 = mkron(np.ones((r2, 1), dtype=np.int32), reshape(np.arange(n, dtype=np.int32),(-1, 1)))\n",
      "    #i_next = np.hstack((w1, w2))\n",
      "    i_next = reshape(i_next, (n * r2, -1))\n",
      "    i_next = i_next[ind, :]\n",
      "    nd.edges[0].ind_right = i_next.copy()\n",
      "    #print 'final ind_right:', nd.edges[0].ind_right\n",
      "    nd.edges[0].ind_right_add = i_next.copy()\n",
      "    \n",
      "def apply_Ru(nd):\n",
      "    cr = nd.ucore.copy()\n",
      "    try:\n",
      "        Ru = nd.edges[0].Ru.copy()\n",
      "        cr = np.tensordot(Ru, cr, 1)\n",
      "    except: \n",
      "        pass\n",
      "    nd.ucore = cr\n",
      "    nd.edges[0].Ru = []\n",
      "\n",
      "def compute_uadd(nd):\n",
      "    cr = nd.ucore.copy()\n",
      "    n = cr.shape[1]\n",
      "    #Compute uadd \n",
      "    #Form full index\n",
      "    i_left = nd.edges[0].ind_left\n",
      "    r1 = i_left.shape[0]\n",
      "    i_right_add = nd.edges[1].ind_right_add\n",
      "    #print 'i_right_add:', i_right_add\n",
      "    radd = i_right_add.shape[0]\n",
      "    r2 = cr.shape[2]\n",
      "    if r1 * n == r2:\n",
      "        nd.er_u = 0\n",
      "        print 'Compute uadd, finished at full block', 'n=', n, 'r1=', r1, 'r2=', r2\n",
      "        #nd.edges[1].Ru = np.eye(r2)\n",
      "        return\n",
      "    #print 'u has the size %d x %d' % (r1 * n, r2)\n",
      "    #print 'uadd will have the size %d x %d' % ((r1 * n), radd)\n",
      "    w1 = mkron(np.ones((radd * n, 1),dtype=np.int32), i_left)\n",
      "    w2 = mkron(i_right_add, np.ones((r1 * n, 1), dtype=np.int32))\n",
      "    p = np.arange(n, dtype=np.int32); p = reshape(p, (-1, 1))\n",
      "    #w3 = mkron(mkron(np.ones((radd, 1)), p), np.ones((r1, 1)))\n",
      "    w3 = mkron(mkron(np.ones((radd, 1)), p), np.ones((r1, 1)))\n",
      "    J = np.hstack((w1, w3, w2))\n",
      "    #J = np.hstack((w2, w3, w1))\n",
      "    #print 'i_right_add:', i_right_add\n",
      "    #print 'i_left:', i_left\n",
      "    \n",
      "    uadd = c.fun(J)\n",
      "    uadd = reshape(uadd, (-1, radd))\n",
      "    u = reshape(cr, (-1, r2))\n",
      "    ind = nd.maxvol_left\n",
      "    ind = np.ravel_multi_index(ind, (r1, n), order='F')\n",
      "    #Now update \n",
      "    comp_u = uadd - np.dot(u, uadd[ind, :])\n",
      "    \n",
      "    #print 'er in u:', np.linalg.norm(comp_u), 'rank=', u.shape[1]\n",
      "    print 'error in u:', np.linalg.norm(comp_u)\n",
      "    er = np.linalg.norm(comp_u) / np.linalg.norm(u) \n",
      "    nd.er_u = er\n",
      "    #rank_increase = er >= c.eps \n",
      "    #print 'Rank increase:', rank_increase\n",
      "    rq = n * r1 - r2\n",
      "    if radd > rq:\n",
      "        comp_u = np.random.randn(r1 * n, rq)\n",
      "        radd = rq\n",
      "    #print 'compu_u is', comp_u.shape\n",
      "    #comp_u, tmp = np.linalg.qr(comp_u)\n",
      "    ifilt = filter(lambda x: x not in ind, xrange(comp_u.shape[0]))\n",
      "    c1 = comp_u[ifilt, :]\n",
      "    c1, tmp = np.linalg.qr(c1)\n",
      "    comp_u[ifilt, :] = c1\n",
      "    #Do a slight fix\n",
      "\n",
      "    ind_add = maxvol(comp_u)\n",
      "    uv = u[ind_add, :]\n",
      "    u2 = np.linalg.solve(comp_u[ind_add, :].T, comp_u.T).T\n",
      "    u1 = u - np.dot(u2, u[ind_add, :])\n",
      "    u = np.hstack((u1, u2))\n",
      "    nd.ucore = reshape(u.copy(), (r1, n, -1)) #Save the current core\n",
      "    Ru = np.vstack((np.eye(r2), uv)) #Correction of the product\n",
      "    ind = np.hstack((ind, ind_add))\n",
      "\n",
      "    nd.maxvol_left = np.unravel_index(ind, (r1, n), order='F')\n",
      "    #else:\n",
      "    #   Ru = np.eye(r2)\n",
      "    try:\n",
      "        nd.edges[1].Ru = np.dot(Ru, nd.edges[1].Ru)\n",
      "    except:\n",
      "        nd.edges[1].Ru = Ru.copy()\n",
      "    #And also recompute the next index\n",
      "    i_left = nd.edges[0].ind_left\n",
      "    #Update index full\n",
      "    w1 = mkron(np.ones((n, 1), dtype=np.int32), i_left)\n",
      "    w2 = mkron(reshape(np.arange(n, dtype=np.int32), (-1, 1)), np.ones((r1, 1), dtype=np.int32))\n",
      "    #i_next = np.hstack((w2, w1))\n",
      "    i_next = np.hstack((w1, w2))\n",
      "    \n",
      "    i_next = reshape(i_next, (r1 * n, -1))\n",
      "    \n",
      "    nd.edges[1].ind_left = i_next[ind, :].copy()\n",
      "    \n",
      "    nd.edges[1].ind_left_add_new = i_next[ind_add, :].copy()\n",
      "    #else:\n",
      "    #    nd.edges[1].ind_left_add_new = nd.edges[1].ind_left_add.copy()\n",
      "    #print 'ind_left_add_new', nd.edges[1].ind_left_add_new\n",
      "    #print 'ind:', ind\n",
      "    #print 'ind_add:', ind_add\n",
      "    \n",
      "def apply_Rv(nd):\n",
      "    cr = nd.vcore.copy()\n",
      "    try:\n",
      "        Rv = nd.edges[1].Rv.copy()\n",
      "        cr = np.tensordot(cr, Rv, 1)\n",
      "    except:\n",
      "        pass\n",
      "    nd.vcore = cr\n",
      "    nd.edges[1].Rv = []\n",
      "    \n",
      "    \n",
      "def compute_vadd(nd):\n",
      "    cr = nd.vcore.copy()\n",
      "    n = cr.shape[1]\n",
      "    i_right = nd.edges[1].ind_right\n",
      "    r2 = i_right.shape[0]\n",
      "    i_left_add = nd.edges[0].ind_left_add\n",
      "    #print 'i_left_add:', i_left_add\n",
      "    #print 'ind_left:', nd.edges[0].ind_left\n",
      "    radd = i_left_add.shape[0]\n",
      "    r1 = cr.shape[0]\n",
      "    if r1 == n * r2: #We already have full rank, do nothing\n",
      "        nd.er_v = 0.0\n",
      "        print 'compute_vadd, finished at full block', 'n=', n, 'r1=', r1, 'r2=', r2\n",
      "        return\n",
      "    #print 'vadd will have shape %d x %d' % (n * r2, radd)\n",
      "    #print 'v will have have shape %d x %d' % (n * r2, r1)\n",
      "    w1 = mkron(np.ones((r2 * n, 1),dtype=np.int32), i_left_add)\n",
      "    #w2 = mkron(np.ones((radd * n, 1), dtype=np.int32), i_right)\n",
      "    try: \n",
      "        w2 = mkron(i_right, np.ones((radd * n, 1), dtype=np.int32))\n",
      "    except:\n",
      "        w2 = np.ones((radd * n, 1), dtype=np.int32)\n",
      "    p = np.arange(n, dtype=np.int32); p = reshape(p, (-1, 1))\n",
      "    w3 = mkron(mkron(np.ones((r2, 1)), p), np.ones((radd, 1)))\n",
      "    J = np.hstack((w1, w3, w2))\n",
      "    #J = np.hstack((w2, w3, w1))\n",
      "    \n",
      "    #print 'J:', J\n",
      "    #print 'i_left_add:', i_left_add\n",
      "    #print 'i_right:', i_right\n",
      "    vadd = c.fun(J)\n",
      "    vadd = reshape(vadd, (radd, -1))\n",
      "    v = reshape(cr, (r1, -1))\n",
      "    v = v.T\n",
      "    vold = v.copy()\n",
      "\n",
      "    vadd = vadd.T\n",
      "    ind = nd.maxvol_right\n",
      "    ind = np.ravel_multi_index(ind, (n, r2), order='F')\n",
      "    #Now update \n",
      "    comp_v = vadd - np.dot(v, vadd[ind, :])\n",
      "    \n",
      "    #print 'vadd:', vadd, 'comp_v:', comp_v, 'v', v\n",
      "    #raw_input()\n",
      "    print 'error in v:', np.linalg.norm(comp_v)\n",
      "    #We do extension only if the error in comp_v is not small\n",
      "    er = np.linalg.norm(comp_v) / np.linalg.norm(v) \n",
      "    nd.er_v = er\n",
      "\n",
      "    #rank_increase = er >= c.eps\n",
      "    rq = n * r2 - r1 \n",
      "    if radd > rq:\n",
      "        comp_v = np.random.randn((n * r2, rq))\n",
      "        radd = rq\n",
      "    ifilt = filter(lambda x: x not in ind, xrange(comp_v.shape[0]))\n",
      "    c1 = comp_v[ifilt, :]\n",
      "    c1, tmp = np.linalg.qr(c1)\n",
      "    comp_v[ifilt, :] = c1\n",
      "    \n",
      "    ind_add = maxvol(comp_v)\n",
      "    uv = v[ind_add, :]\n",
      "    v2 = np.linalg.solve(comp_v[ind_add, :].T, comp_v.T).T\n",
      "    v1 = v - np.dot(v2, v[ind_add, :])\n",
      "    v = np.hstack((v1, v2))\n",
      "    nd.vcore = reshape(v.copy().T, (-1, n, r2)) #Save the current core\n",
      "    Rv = np.vstack((np.eye(r1), uv)) #Correction of the product\n",
      "    ind = np.hstack((ind, ind_add))\n",
      "    nd.maxvol_right = np.unravel_index(ind, (n, r2), order='F')\n",
      "    try:\n",
      "        nd.edges[0].Rv = np.dot(nd.edges[0].Rv, Rv.T)\n",
      "    except:\n",
      "        nd.edges[0].Rv = Rv.T.copy()\n",
      "\n",
      "    \n",
      "    \"\"\" Finally, update indices \"\"\"\n",
      "    i_right = nd.edges[1].ind_right\n",
      "    w1 = mkron(np.ones((r2, 1), dtype=np.int32), reshape(np.arange(n, dtype=np.int32),(-1, 1)))\n",
      "\n",
      "    try:\n",
      "        w2 = mkron(i_right, np.ones((n, 1), dtype=np.int32))\n",
      "        #i_next = np.hstack((w2, w1))\n",
      "        i_next = np.hstack((w1, w2))\n",
      "    except:\n",
      "        i_next = w1\n",
      "    #w1 = mkron(reshape(np.arange(n, dtype=np.int32),(-1, 1)), np.ones((r2, 1), dtype=np.int32))\n",
      "    \n",
      "    \n",
      "    i_next = reshape(i_next, (n * r2, -1))\n",
      "    nd.edges[0].ind_right = i_next[ind, :].copy()\n",
      "    nd.edges[0].ind_right_add_new = i_next[ind_add, :].copy()\n",
      "        #nd.edges[0].ind_right_add_new = nd.edges[0].ind_right_add.copy()\n",
      "\n",
      "def iterate_superblock(nd1, nd2):\n",
      "    #Here we do an iteration\n",
      "    u0 = nd1.ucore\n",
      "    v0 = nd2.vcore\n",
      "    i_left = nd1.edges[0].ind_left\n",
      "    i_right = nd2.edges[1].ind_right\n",
      "    r1 = u0.shape[0]; n1 = u0.shape[1]\n",
      "    r2 = v0.shape[0]; n2 = v0.shape[1]\n",
      "    #We now can just compute the sprblock, recompute indices\n",
      "    \n",
      "    \n",
      "def setup_indices(c):\n",
      "    d = c.d\n",
      "    #Setup left indices\n",
      "    for i in xrange(d-1):\n",
      "        nd = c.nodes[i]\n",
      "        left_qr_maxvol(nd)  \n",
      "    \n",
      "    for i in xrange(d-1, 0, -1):\n",
      "        nd = c.nodes[i]\n",
      "        #compute_add(nd)\n",
      "        right_qr_maxvol(nd)\n",
      "\n",
      "def iterate(c):\n",
      "    for i in xrange(d):\n",
      "        c.nodes[i].edges[0].Rv = np.ones((1, 1))\n",
      "        c.nodes[i].edges[1].Rv = np.ones((1, 1))\n",
      "        c.nodes[i].edges[0].Ru = np.ones((1, 1))\n",
      "        c.nodes[i].edges[1].Ru = np.ones((1, 1))\n",
      "\n",
      "    #Update u\n",
      "    #print reshape(np.tensordot(c.nodes[0].ucore, c.nodes[1].ucore, 1), (4, -1))\n",
      "    jmax = 0\n",
      "    #wold = np.tensordot(c.nodes[0].ucore, c.nodes[1].ucore, 1)\n",
      "    swp = 0\n",
      "    i = 0 \n",
      "    for i in xrange(d-1):\n",
      "        print 'substep', i\n",
      "        #wnew = np.tensordot(c.nodes[0].ucore, c.nodes[1].ucore, 1)\n",
      "        #print 'Basis error:', np.linalg.norm(wnew - wold)\n",
      "        #w2 = reshape(np.tensordot(c.nodes[1].vcore, c.nodes[2].vcore, 1), (-1, 16))\n",
      "        #w2 = w2.T\n",
      "        #Modifying one link\n",
      "        j = 0\n",
      "        er_max = 2 * c.eps\n",
      "        \n",
      "        #Local block iteration\n",
      "        #while er_max >= c.eps:\n",
      "        Kmax = 10\n",
      "        for j in xrange(Kmax):\n",
      "\n",
      "            apply_Ru(c.nodes[i])\n",
      "            try:\n",
      "                c.nodes[i+1].edges[0].ind_right_add = c.nodes[i+1].edges[0].ind_right_add_new.copy()\n",
      "            except:\n",
      "                print 'wow'\n",
      "                pass\n",
      "            compute_uadd(c.nodes[i])\n",
      "            try:\n",
      "                c.nodes[i].edges[1].ind_left_add = c.nodes[i].edges[1].ind_left_add_new.copy()\n",
      "            except:\n",
      "                pass\n",
      "            compute_vadd(c.nodes[i+1])\n",
      "            apply_Rv(c.nodes[i])\n",
      "            er_max = max(c.nodes[i].er_u, c.nodes[i+1].er_v)\n",
      "            #j = j + 1\n",
      "            #print 'step', j, 'er_max=', er_max\n",
      "        print 'At block', i, 'done', j, 'sweeps'\n",
      "    \"\"\"\n",
      "    for i in xrange(d-2, 1, -1):\n",
      "        print 'substep', i\n",
      "        #wnew = np.tensordot(c.nodes[0].ucore, c.nodes[1].ucore, 1)\n",
      "        #print 'Basis error:', np.linalg.norm(wnew - wold)\n",
      "        #w2 = reshape(np.tensordot(c.nodes[1].vcore, c.nodes[2].vcore, 1), (-1, 16))\n",
      "        #w2 = w2.T\n",
      "        #Modifying one link\n",
      "        j = 0\n",
      "        er_max = 2 * c.eps\n",
      "        \n",
      "        #Local block iteration\n",
      "        #while er_max >= c.eps:\n",
      "        for j in xrange(Kmax):\n",
      "            apply_Ru(c.nodes[i])\n",
      "            try:\n",
      "                c.nodes[i+1].edges[0].ind_right_add = c.nodes[i+1].edges[0].ind_right_add_new.copy()\n",
      "            except:\n",
      "                pass\n",
      "            compute_uadd(c.nodes[i])\n",
      "            try:\n",
      "                c.nodes[i].edges[1].ind_left_add = c.nodes[i].edges[1].ind_left_add_new.copy()\n",
      "            except:\n",
      "                pass\n",
      "            compute_vadd(c.nodes[i+1])\n",
      "            apply_Rv(c.nodes[i])\n",
      "            er_max = max(c.nodes[i].er_u, c.nodes[i+1].er_v)\n",
      "            #j = j + 1\n",
      "            #print 'step', j, 'er_max=', er_max\n",
      "        print 'At block', i, 'done', j, 'sweeps'\n",
      "    \"\"\"\n",
      "        \n",
      "\n",
      "    #c.jmax = jmax\n",
      "    #ynew = tt.tensor.from_list(get_approx(c, d-2))\n",
      "    #if c.yold is not None:\n",
      "    #    c.global_er = (ynew - c.yold).norm() / ynew.norm()\n",
      "    #    c.yold = ynew.copy()\n",
      "    #else:\n",
      "    #    c.yold = ynew.copy()\n",
      "    #    c.global_er = 2 * c.eps\n",
      "    #print 'Global error:', c.global_er\n",
      "\n",
      "def get_approx(c, k):\n",
      "    #Provided that all approximations are computed, find out the Phi matrix\n",
      "    i_left = c.nodes[k].edges[1].ind_left\n",
      "    i_right = c.nodes[k+1].edges[0].ind_right\n",
      "    #print 'i_left:', i_left\n",
      "    #print 'i_right:', i_right\n",
      "\n",
      "    r1 = i_left.shape[0]\n",
      "    r2 = i_right.shape[0]\n",
      "    #Construct index set\n",
      "    w1 = mkron(np.ones((r2, 1), dtype=np.int32), i_left)\n",
      "    w2 = mkron(i_right, np.ones((r1, 1), dtype=np.int32))\n",
      "    J = np.hstack((w1, w2))\n",
      "    #print 'i_left:', i_left\n",
      "    #print 'i_right:', i_right\n",
      "    #print 'J:', J\n",
      "    sbm = c.fun(J)\n",
      "    sbm = reshape(sbm, (r1, r2))\n",
      "    #print 'submatrix:', sbm\n",
      "    x = [[]] * c.d\n",
      "    for i in xrange(k+1):\n",
      "        x[i] = c.nodes[i].ucore\n",
      "    \n",
      "    for i in xrange(k+1, d):\n",
      "        x[i] = c.nodes[i].vcore\n",
      "    x[k] = np.tensordot(x[k], sbm, 1)\n",
      "    return x"
     ],
     "language": "python",
     "metadata": {},
     "outputs": [],
     "prompt_number": 602
    },
    {
     "cell_type": "code",
     "collapsed": false,
     "input": [
      "def myfun(x):\n",
      "    #return np.sin((x.sum(axis=1))) ** 2\n",
      "    return 1.0 / ((x.sum(axis=1)) + 1)\n",
      "    \n",
      "    #return (x + 1).prod(axis=1)\n",
      "    #return np.ones(x.shape[0])\n",
      "d = 3\n",
      "n = 15\n",
      "r = 1\n",
      "\n",
      "sz = [n] * d\n",
      "ind_all = np.unravel_index(np.arange(n ** d), sz)\n",
      "ind_all = np.array(ind_all).T\n",
      "ft = reshape(myfun(ind_all), sz)\n",
      "#x0 = tt.tensor(ft, 1e-8)\n",
      "x0 = tt.rand(n, d, r)\n"
     ],
     "language": "python",
     "metadata": {},
     "outputs": [],
     "prompt_number": 589
    },
    {
     "cell_type": "markdown",
     "metadata": {},
     "source": [
      "Now the question is how to find the approximation. We can plug the submatrix between any two basises,\n",
      "and that gives you $d$ different approximations.  Maybe we can add them together?\n",
      "$U_1 \\Phi V$"
     ]
    },
    {
     "cell_type": "code",
     "collapsed": false,
     "input": [
      "#return np.ones(x.shape[0])\n",
      "niters = 2#Total number of iterations\n",
      "c = init_alg(myfun, x0)\n",
      "c.eps = 1e-8\n",
      "c.global_er = 2 * c.eps\n",
      "setup_indices(c)\n",
      "c.yold = None #Initial approximation\n",
      "swp = 0\n",
      "for it in xrange(niters):\n",
      "#while c.global_er > c.eps:\n",
      "#while c.jmax > 1:\n",
      "    print 'swp:', swp\n",
      "    iterate(c)\n",
      "    X = get_approx(c, d-2)\n",
      "    a1 = tt.tensor.from_list(X)\n",
      "    print np.linalg.norm(a1.full() - ft) / np.linalg.norm(ft)\n",
      "    raw_input()\n",
      "    swp = swp + 1\n",
      "print 'Iteration converged in', swp, 'sweeps'"
     ],
     "language": "python",
     "metadata": {},
     "outputs": [
      {
       "output_type": "stream",
       "stream": "stdout",
       "text": [
        "ind_left: [[12]]\n",
        "ind_left: [[12  9]]\n",
        "swp: 0\n",
        "substep 0\n",
        "wow\n",
        "error in u: 0.170999682972\n",
        "error in v: 0.255718287314\n",
        "error in u: 0.00585121744104\n",
        "error in v: 0.0216477320246\n",
        "error in u: 0.00444333755266\n",
        "error in v: 0.00150515239511\n",
        "error in u: 3.14502003147e-05\n",
        "error in v: 3.2884195922e-05\n",
        "error in u: 3.53175573549e-06\n",
        "error in v: 1.23089704575e-06\n",
        "error in u: 1.00860762766e-08\n",
        "error in v: 2.65793431572e-08\n",
        "error in u: 4.48873959267e-09\n",
        "error in v: 2.40046840085e-09\n",
        "error in u: 4.32227281174e-11\n",
        "error in v: 4.50942998536e-11\n",
        "error in u: 3.75453491024e-13\n",
        "error in v: 3.1103890183e-13\n",
        "error in u: 1.19423444168e-14\n",
        "error in v: 6.75377910579e-15\n",
        "At block 0 done 9 sweeps\n",
        "substep 1\n",
        "wow\n",
        "error in u: 0.669419349754\n",
        "error in v: 0.740951315488\n",
        "error in u: 4.61970708793\n",
        "error in v: 0.175739495899\n",
        "error in u: 0.117358470634\n",
        "error in v: 0.0124496179495\n",
        "error in u: 0.0136449294885\n",
        "error in v:"
       ]
      },
      {
       "output_type": "stream",
       "stream": "stdout",
       "text": [
        " 0.003150939738\n",
        "error in u: 0.00438596104647\n",
        "error in v: 0.000157685567137\n",
        "error in u: 6.88453082919e-05\n",
        "error in v: 5.06788345996e-05\n",
        "error in u: 4.71474664516e-05\n",
        "error in v: 1.71165532631e-06\n",
        "error in u: 1.48276965084e-07\n",
        "error in v: 1.28329295507e-07\n",
        "error in u: 5.95782768882e-07\n",
        "error in v: 3.93383890609e-09\n",
        "error in u: 6.79892673045e-10\n",
        "error in v: 8.49205260213e-11\n",
        "At block 1 done 9 sweeps\n",
        "2.24851337243e-05\n"
       ]
      },
      {
       "name": "stdout",
       "output_type": "stream",
       "stream": "stdout",
       "text": [
        "\n"
       ]
      },
      {
       "output_type": "stream",
       "stream": "stdout",
       "text": [
        "swp: 1\n",
        "substep 0\n",
        "error in u: 6.28343567326e-17\n",
        "error in v: 0.84408483941\n",
        "error in u: 6.48497693911e-08\n",
        "error in v: 0.0329926594204\n",
        "error in u: 9.90415643908e-07\n",
        "error in v: 0.0206166427876\n",
        "error in u: 6.93889390391e-18\n",
        "error in v: 0.000243346080312\n",
        "Compute uadd, finished at full block n= 15 r1= 1 r2= 15\n",
        "error in v: 1.135945889e-16\n",
        "Compute uadd, finished at full block n= 15 r1= 1 r2= 15\n",
        "error in v: 8.52665558121e-17\n",
        "Compute uadd, finished at full block n= 15 r1= 1 r2= 15\n",
        "error in v: 7.44113471865e-17\n",
        "Compute uadd, finished at full block n= 15 r1= 1 r2= 15\n",
        "error in v: 9.12668998568e-17\n",
        "Compute uadd, finished at full block n= 15 r1= 1 r2= 15\n",
        "error in v: 5.88784672006e-17\n",
        "Compute uadd, finished at full block n= 15 r1= 1 r2= 15\n",
        "error in v: 5.6371840561e-17\n",
        "At block 0 done 9 sweeps\n",
        "substep 1\n",
        "error in u: 1.84330211093e-09\n",
        "error in v:"
       ]
      },
      {
       "output_type": "stream",
       "stream": "stdout",
       "text": [
        " 4.22076438404e-17\n",
        "error in u: 1.54688400096e-11\n",
        "error in v: 1.21538811142e-11\n",
        "error in u: 9.60943861351e-14\n",
        "error in v: 3.10445737624e-13\n",
        "error in u: 1.24825509442e-12\n",
        "error in v: 1.65145674913e-15\n",
        "error in u: 1.21734400271e-13\n",
        "compute_vadd, finished at full block n= 15 r1= 15 r2= 1\n",
        "error in u: 1.7003829948e-16\n",
        "compute_vadd, finished at full block n= 15 r1= 15 r2= 1\n",
        "error in u: 1.73298788427e-16\n",
        "compute_vadd, finished at full block n= 15 r1= 15 r2= 1\n",
        "error in u: 1.56279234408e-16\n",
        "compute_vadd, finished at full block n= 15 r1= 15 r2= 1\n",
        "error in u: 1.25716596383e-16\n",
        "compute_vadd, finished at full block n= 15 r1= 15 r2= 1\n",
        "error in u: 1.09493898934e-16\n",
        "compute_vadd, finished at full block n= 15 r1= 15 r2= 1\n",
        "At block 1 done 9 sweeps\n",
        "1.57792773799e-06\n"
       ]
      },
      {
       "name": "stdout",
       "output_type": "stream",
       "stream": "stdout",
       "text": [
        "q\n"
       ]
      },
      {
       "output_type": "stream",
       "stream": "stdout",
       "text": [
        "Iteration converged in 2 sweeps\n"
       ]
      }
     ],
     "prompt_number": 604
    },
    {
     "cell_type": "code",
     "collapsed": false,
     "input": [],
     "language": "python",
     "metadata": {},
     "outputs": [
      {
       "output_type": "stream",
       "stream": "stdout",
       "text": [
        "ind_left: [[12]]\n",
        "ind_left: [[12  9]]\n"
       ]
      }
     ],
     "prompt_number": 607
    },
    {
     "cell_type": "code",
     "collapsed": false,
     "input": [
      "c.eps = 1e-12\n",
      "#iterate(c)\n"
     ],
     "language": "python",
     "metadata": {},
     "outputs": [],
     "prompt_number": 625
    },
    {
     "cell_type": "code",
     "collapsed": false,
     "input": [
      "c = init_alg(myfun, x0)\n",
      "setup_indices(c)\n",
      "c.eps = 1e-12\n",
      "iterate(c)"
     ],
     "language": "python",
     "metadata": {},
     "outputs": [
      {
       "output_type": "stream",
       "stream": "stdout",
       "text": [
        "ind_left: [[12]]\n",
        "ind_left: [[12  9]]\n",
        "substep 0\n",
        "wow\n",
        "error in u: 0.170999682972\n",
        "error in v: 0.255718287314\n",
        "error in u: 0.00585121744104\n",
        "error in v: 0.0216477320246\n",
        "error in u: 0.00444333755266\n",
        "error in v: 0.00150515239511\n",
        "error in u: 3.14502003147e-05\n",
        "error in v: 3.2884195922e-05\n",
        "error in u: 3.53175573549e-06\n",
        "error in v: 1.23089704575e-06\n",
        "error in u: 1.00860762766e-08\n",
        "error in v: 2.65793431572e-08\n",
        "error in u: 4.48873959267e-09\n",
        "error in v: 2.40046840085e-09\n",
        "error in u: 4.32227281174e-11\n",
        "error in v: 4.50942998536e-11\n",
        "error in u: 3.75453491024e-13\n",
        "error in v: 3.1103890183e-13\n",
        "error in u: 1.19423444168e-14\n",
        "error in v: 6.75377910579e-15\n",
        "At block 0 done 9 sweeps\n",
        "substep 1\n",
        "wow\n",
        "error in u: 0.669419349754\n",
        "error in v: 0.740951315488\n",
        "error in u: 4.61970708793\n",
        "error in v: 0.175739495899\n",
        "error in u: 0.117358470634\n",
        "error in v:"
       ]
      },
      {
       "output_type": "stream",
       "stream": "stdout",
       "text": [
        " 0.0124496179495\n",
        "error in u: 0.0136449294885\n",
        "error in v: 0.003150939738\n",
        "error in u: 0.00438596104647\n",
        "error in v: 0.000157685567137\n",
        "error in u: 6.88453082919e-05\n",
        "error in v: 5.06788345996e-05\n",
        "error in u: 4.71474664516e-05\n",
        "error in v: 1.71165532631e-06\n",
        "error in u: 1.48276965084e-07\n",
        "error in v: 1.28329295507e-07\n",
        "error in u: 5.95782768882e-07\n",
        "error in v: 3.93383890609e-09\n",
        "error in u: 6.79892673045e-10\n",
        "error in v: 8.49205260213e-11\n",
        "At block 1 done 9 sweeps\n"
       ]
      }
     ],
     "prompt_number": 653
    },
    {
     "cell_type": "code",
     "collapsed": false,
     "input": [
      "i = 0\n",
      "apply_Ru(c.nodes[i])\n",
      "try:\n",
      "    c.nodes[i+1].edges[0].ind_right_add = c.nodes[i+1].edges[0].ind_right_add_new.copy()\n",
      "except:\n",
      "    print 'wow'\n",
      "    pass\n",
      "compute_uadd(c.nodes[i])\n",
      "try:\n",
      "    c.nodes[i].edges[1].ind_left_add = c.nodes[i].edges[1].ind_left_add_new.copy()\n",
      "except:\n",
      "    pass\n",
      "compute_vadd(c.nodes[i+1])\n",
      "apply_Rv(c.nodes[i])"
     ],
     "language": "python",
     "metadata": {},
     "outputs": [
      {
       "output_type": "stream",
       "stream": "stdout",
       "text": [
        "Compute uadd, finished at full block n= 15 r1= 1 r2= 15\n",
        "error in v: 8.52665558121e-17\n"
       ]
      }
     ],
     "prompt_number": 661
    },
    {
     "cell_type": "code",
     "collapsed": false,
     "input": [],
     "language": "python",
     "metadata": {},
     "outputs": []
    },
    {
     "cell_type": "code",
     "collapsed": false,
     "input": [
      "print c0.nodes[0].ucore.shape"
     ],
     "language": "python",
     "metadata": {},
     "outputs": [
      {
       "output_type": "stream",
       "stream": "stdout",
       "text": [
        "(1, 15, 15)\n"
       ]
      }
     ],
     "prompt_number": 660
    },
    {
     "cell_type": "code",
     "collapsed": false,
     "input": [
      "#X = get_approx(c, d-2)\n",
      "X = get_approx(c, 1)\n",
      "a1 = tt.tensor.from_list(X)\n",
      "print np.linalg.norm(a1.full() - ft) / np.linalg.norm(ft)\n",
      "#print a1.round(1e-6)\n",
      "print a1"
     ],
     "language": "python",
     "metadata": {},
     "outputs": [
      {
       "output_type": "stream",
       "stream": "stdout",
       "text": [
        "2.24851337243e-05\n",
        "This is a 3-dimensional tensor \n",
        "r(0)=1, n(0)=15 \n",
        "r(1)=11, n(1)=15 \n",
        "r(2)=11, n(2)=15 \n",
        "r(3)=1 \n",
        "\n"
       ]
      }
     ],
     "prompt_number": 612
    },
    {
     "cell_type": "code",
     "collapsed": false,
     "input": [
      "vcore_test(c, 2, ft)"
     ],
     "language": "python",
     "metadata": {},
     "outputs": [
      {
       "output_type": "stream",
       "stream": "stdout",
       "text": [
        "7.55397992531e-07\n"
       ]
      }
     ],
     "prompt_number": 623
    },
    {
     "cell_type": "code",
     "collapsed": false,
     "input": [
      "def ucore_test(c, k, ft):\n",
      "    q0 = c.nodes[0].ucore\n",
      "    r1 = c.nodes[0].ucore.shape[2]\n",
      "    for i in xrange(1, k):\n",
      "        q0 = np.tensordot(q0, c.nodes[i].ucore, 1)\n",
      "        r1 = c.nodes[i].ucore.shape[2]    \n",
      "    q0 = reshape(q0, (-1, r1))\n",
      "    e = np.eye(r1)\n",
      "    ind = [[]] * r1\n",
      "    for i in xrange(r1):\n",
      "        for j in xrange(q0.shape[0]):\n",
      "            er = np.linalg.norm(q0[j, :] - e[:, i])\n",
      "            if er < 1e-8:\n",
      "                ind[i] = j\n",
      "    ft1 = reshape(ft, (q0.shape[0], -1))\n",
      "    #print q0[ind, :]\n",
      "    print np.linalg.norm(np.dot(q0, ft1[ind, :]) - ft1)\n",
      "\n",
      "def vcore_test(c, k, ft):\n",
      "    d = c.d\n",
      "    q0 = c.nodes[d-1].vcore\n",
      "    r1 = c.nodes[d-1].vcore.shape[0]\n",
      "    for i in xrange(d-2, k-1, -1):\n",
      "        q0 = np.tensordot(c.nodes[i].vcore, q0, 1)\n",
      "        r1 = c.nodes[i].vcore.shape[0]\n",
      "    q0 = reshape(q0, (r1, -1))\n",
      "    e = np.eye(r1)\n",
      "    ind = [[]] * r1\n",
      "    for i in xrange(r1):\n",
      "        for j in xrange(q0.shape[1]):\n",
      "            er = np.linalg.norm(q0[:, j] - e[:, i])\n",
      "            if er < 1e-8:\n",
      "                ind[i] = j\n",
      "    #print q0[:, ind]\n",
      "    ft1 = reshape(ft, (-1, q0.shape[1]))\n",
      "    q0 = q0.T\n",
      "    ft1 = ft1.T\n",
      "    print np.linalg.norm(np.dot(q0, ft1[ind, :]) - ft1)\n",
      "    \n",
      "#Find identity submatrix\n",
      "#ucore_test(c, 3, ft)\n",
      "vcore_test(c, 1, ft)"
     ],
     "language": "python",
     "metadata": {},
     "outputs": [
      {
       "output_type": "stream",
       "stream": "stdout",
       "text": [
        "3.69706231929\n"
       ]
      }
     ],
     "prompt_number": 617
    },
    {
     "cell_type": "code",
     "collapsed": false,
     "input": [],
     "language": "python",
     "metadata": {},
     "outputs": [
      {
       "output_type": "stream",
       "stream": "stdout",
       "text": [
        "3.95089454977e-05\n"
       ]
      }
     ],
     "prompt_number": 584
    },
    {
     "cell_type": "code",
     "collapsed": false,
     "input": [
      "w1 = reshape(np.tensordot(c.nodes[1].vcore, c.nodes[2].vcore, 1), (-1, n * n)).T\n",
      "ft1 = reshape(ft1, (-1, n * n)).T\n",
      "#jj = maxvol(w1)\n",
      "np.linalg.norm(np.dot(w1, ft1[jj, :]) - ft1)"
     ],
     "language": "python",
     "metadata": {},
     "outputs": [
      {
       "metadata": {},
       "output_type": "pyout",
       "prompt_number": 9,
       "text": [
        "2.8479388179413911"
       ]
      }
     ],
     "prompt_number": 9
    },
    {
     "cell_type": "code",
     "collapsed": false,
     "input": [
      "w1 = reshape(np.tensordot(c.nodes[0].ucore, c.nodes[1].ucore, 1), (16, -1))\n",
      "ft1 = reshape(ft, (16, -1))\n",
      "jj = maxvol(w1)\n",
      "#print w1[jj, :]\n",
      "print np.linalg.norm(np.dot(w1, ft1[jj, :]) - ft1)\n"
     ],
     "language": "python",
     "metadata": {},
     "outputs": [
      {
       "ename": "ValueError",
       "evalue": "total size of new array must be unchanged",
       "output_type": "pyerr",
       "traceback": [
        "\u001b[0;31m---------------------------------------------------------------------------\u001b[0m\n\u001b[0;31mValueError\u001b[0m                                Traceback (most recent call last)",
        "\u001b[0;32m<ipython-input-241-5bbfc6d6e573>\u001b[0m in \u001b[0;36m<module>\u001b[0;34m()\u001b[0m\n\u001b[0;32m----> 1\u001b[0;31m \u001b[0mw1\u001b[0m \u001b[0;34m=\u001b[0m \u001b[0mreshape\u001b[0m\u001b[0;34m(\u001b[0m\u001b[0mnp\u001b[0m\u001b[0;34m.\u001b[0m\u001b[0mtensordot\u001b[0m\u001b[0;34m(\u001b[0m\u001b[0mc\u001b[0m\u001b[0;34m.\u001b[0m\u001b[0mnodes\u001b[0m\u001b[0;34m[\u001b[0m\u001b[0;36m0\u001b[0m\u001b[0;34m]\u001b[0m\u001b[0;34m.\u001b[0m\u001b[0mucore\u001b[0m\u001b[0;34m,\u001b[0m \u001b[0mc\u001b[0m\u001b[0;34m.\u001b[0m\u001b[0mnodes\u001b[0m\u001b[0;34m[\u001b[0m\u001b[0;36m1\u001b[0m\u001b[0;34m]\u001b[0m\u001b[0;34m.\u001b[0m\u001b[0mucore\u001b[0m\u001b[0;34m,\u001b[0m \u001b[0;36m1\u001b[0m\u001b[0;34m)\u001b[0m\u001b[0;34m,\u001b[0m \u001b[0;34m(\u001b[0m\u001b[0;36m16\u001b[0m\u001b[0;34m,\u001b[0m \u001b[0;34m-\u001b[0m\u001b[0;36m1\u001b[0m\u001b[0;34m)\u001b[0m\u001b[0;34m)\u001b[0m\u001b[0;34m\u001b[0m\u001b[0m\n\u001b[0m\u001b[1;32m      2\u001b[0m \u001b[0mft1\u001b[0m \u001b[0;34m=\u001b[0m \u001b[0mreshape\u001b[0m\u001b[0;34m(\u001b[0m\u001b[0mft\u001b[0m\u001b[0;34m,\u001b[0m \u001b[0;34m(\u001b[0m\u001b[0;36m16\u001b[0m\u001b[0;34m,\u001b[0m \u001b[0;34m-\u001b[0m\u001b[0;36m1\u001b[0m\u001b[0;34m)\u001b[0m\u001b[0;34m)\u001b[0m\u001b[0;34m\u001b[0m\u001b[0m\n\u001b[1;32m      3\u001b[0m \u001b[0mjj\u001b[0m \u001b[0;34m=\u001b[0m \u001b[0mmaxvol\u001b[0m\u001b[0;34m(\u001b[0m\u001b[0mw1\u001b[0m\u001b[0;34m)\u001b[0m\u001b[0;34m\u001b[0m\u001b[0m\n\u001b[1;32m      4\u001b[0m \u001b[0;31m#print w1[jj, :]\u001b[0m\u001b[0;34m\u001b[0m\u001b[0;34m\u001b[0m\u001b[0m\n\u001b[1;32m      5\u001b[0m \u001b[0;32mprint\u001b[0m \u001b[0mnp\u001b[0m\u001b[0;34m.\u001b[0m\u001b[0mlinalg\u001b[0m\u001b[0;34m.\u001b[0m\u001b[0mnorm\u001b[0m\u001b[0;34m(\u001b[0m\u001b[0mnp\u001b[0m\u001b[0;34m.\u001b[0m\u001b[0mdot\u001b[0m\u001b[0;34m(\u001b[0m\u001b[0mw1\u001b[0m\u001b[0;34m,\u001b[0m \u001b[0mft1\u001b[0m\u001b[0;34m[\u001b[0m\u001b[0mjj\u001b[0m\u001b[0;34m,\u001b[0m \u001b[0;34m:\u001b[0m\u001b[0;34m]\u001b[0m\u001b[0;34m)\u001b[0m \u001b[0;34m-\u001b[0m \u001b[0mft1\u001b[0m\u001b[0;34m)\u001b[0m\u001b[0;34m\u001b[0m\u001b[0m\n",
        "\u001b[0;32m<ipython-input-1-8bcc8cf8f16e>\u001b[0m in \u001b[0;36mreshape\u001b[0;34m(a, sz)\u001b[0m\n\u001b[1;32m      9\u001b[0m \"\"\"\n\u001b[1;32m     10\u001b[0m \u001b[0;32mdef\u001b[0m \u001b[0mreshape\u001b[0m\u001b[0;34m(\u001b[0m\u001b[0ma\u001b[0m\u001b[0;34m,\u001b[0m \u001b[0msz\u001b[0m\u001b[0;34m)\u001b[0m\u001b[0;34m:\u001b[0m\u001b[0;34m\u001b[0m\u001b[0m\n\u001b[0;32m---> 11\u001b[0;31m     \u001b[0;32mreturn\u001b[0m \u001b[0mnp\u001b[0m\u001b[0;34m.\u001b[0m\u001b[0mreshape\u001b[0m\u001b[0;34m(\u001b[0m\u001b[0ma\u001b[0m\u001b[0;34m,\u001b[0m \u001b[0msz\u001b[0m\u001b[0;34m,\u001b[0m \u001b[0morder\u001b[0m \u001b[0;34m=\u001b[0m \u001b[0;34m'F'\u001b[0m\u001b[0;34m)\u001b[0m\u001b[0;34m\u001b[0m\u001b[0m\n\u001b[0m\u001b[1;32m     12\u001b[0m \u001b[0;34m\u001b[0m\u001b[0m\n\u001b[1;32m     13\u001b[0m \u001b[0;32mdef\u001b[0m \u001b[0mmkron\u001b[0m\u001b[0;34m(\u001b[0m\u001b[0ma\u001b[0m\u001b[0;34m,\u001b[0m \u001b[0mb\u001b[0m\u001b[0;34m)\u001b[0m\u001b[0;34m:\u001b[0m\u001b[0;34m\u001b[0m\u001b[0m\n",
        "\u001b[0;32m/Users/ivan/anaconda/lib/python2.7/site-packages/numpy/core/fromnumeric.pyc\u001b[0m in \u001b[0;36mreshape\u001b[0;34m(a, newshape, order)\u001b[0m\n\u001b[1;32m    216\u001b[0m     \u001b[0;32mexcept\u001b[0m \u001b[0mAttributeError\u001b[0m\u001b[0;34m:\u001b[0m\u001b[0;34m\u001b[0m\u001b[0m\n\u001b[1;32m    217\u001b[0m         \u001b[0;32mreturn\u001b[0m \u001b[0m_wrapit\u001b[0m\u001b[0;34m(\u001b[0m\u001b[0ma\u001b[0m\u001b[0;34m,\u001b[0m \u001b[0;34m'reshape'\u001b[0m\u001b[0;34m,\u001b[0m \u001b[0mnewshape\u001b[0m\u001b[0;34m,\u001b[0m \u001b[0morder\u001b[0m\u001b[0;34m=\u001b[0m\u001b[0morder\u001b[0m\u001b[0;34m)\u001b[0m\u001b[0;34m\u001b[0m\u001b[0m\n\u001b[0;32m--> 218\u001b[0;31m     \u001b[0;32mreturn\u001b[0m \u001b[0mreshape\u001b[0m\u001b[0;34m(\u001b[0m\u001b[0mnewshape\u001b[0m\u001b[0;34m,\u001b[0m \u001b[0morder\u001b[0m\u001b[0;34m=\u001b[0m\u001b[0morder\u001b[0m\u001b[0;34m)\u001b[0m\u001b[0;34m\u001b[0m\u001b[0m\n\u001b[0m\u001b[1;32m    219\u001b[0m \u001b[0;34m\u001b[0m\u001b[0m\n\u001b[1;32m    220\u001b[0m \u001b[0;34m\u001b[0m\u001b[0m\n",
        "\u001b[0;31mValueError\u001b[0m: total size of new array must be unchanged"
       ]
      }
     ],
     "prompt_number": 241
    },
    {
     "cell_type": "code",
     "collapsed": false,
     "input": [
      "a1 = reshape(c.nodes[0].ucore, (10, 3))\n",
      "ft1 = reshape(ft, (10, -1))\n",
      "ii = maxvol(a1)\n",
      "np.linalg.norm(np.dot(a1, ft1[ii, :]) - ft1)\n",
      "w1 = reshape(np.tensordot(c.nodes[1].vcore, c.nodes[2].vcore, 1), (-1, 100)).T\n",
      "jj = maxvol(w1)\n",
      "print w1.shape\n",
      "print ft1[:, jj].shape\n"
     ],
     "language": "python",
     "metadata": {},
     "outputs": [
      {
       "output_type": "stream",
       "stream": "stdout",
       "text": [
        "(100, 4)\n",
        "(10, 4)\n"
       ]
      },
      {
       "ename": "IndexError",
       "evalue": "index 57 is out of bounds for axis 0 with size 10",
       "output_type": "pyerr",
       "traceback": [
        "\u001b[0;31m---------------------------------------------------------------------------\u001b[0m\n\u001b[0;31mIndexError\u001b[0m                                Traceback (most recent call last)",
        "\u001b[0;32m<ipython-input-53-5d9b62c0eb89>\u001b[0m in \u001b[0;36m<module>\u001b[0;34m()\u001b[0m\n\u001b[1;32m      7\u001b[0m \u001b[0;32mprint\u001b[0m \u001b[0mw1\u001b[0m\u001b[0;34m.\u001b[0m\u001b[0mshape\u001b[0m\u001b[0;34m\u001b[0m\u001b[0m\n\u001b[1;32m      8\u001b[0m \u001b[0;32mprint\u001b[0m \u001b[0mft1\u001b[0m\u001b[0;34m[\u001b[0m\u001b[0;34m:\u001b[0m\u001b[0;34m,\u001b[0m \u001b[0mjj\u001b[0m\u001b[0;34m]\u001b[0m\u001b[0;34m.\u001b[0m\u001b[0mshape\u001b[0m\u001b[0;34m\u001b[0m\u001b[0m\n\u001b[0;32m----> 9\u001b[0;31m \u001b[0mft1\u001b[0m\u001b[0;34m[\u001b[0m\u001b[0mjj\u001b[0m\u001b[0;34m]\u001b[0m\u001b[0;34m\u001b[0m\u001b[0m\n\u001b[0m",
        "\u001b[0;31mIndexError\u001b[0m: index 57 is out of bounds for axis 0 with size 10"
       ]
      }
     ],
     "prompt_number": 53
    },
    {
     "cell_type": "code",
     "collapsed": false,
     "input": [
      "w1 = reshape(np.tensordot(c.nodes[1].vcore, c.nodes[2].vcore, 1), (-1, 100)).T\n",
      "#w2 = reshape(c.nodes[2].vcore, (-1, 4)).T\n",
      "#print w1\n",
      "#ii = [15, 12]\n",
      "#ft1 = reshape(ft, (4, -1))\n",
      "#ft1 = ft1[c.nodes[0].maxvol_left[1], :]\n",
      "#vadd\n",
      "#ft2 = reshape(ft, (16, -1))\n",
      "#print np.dot(w1, ft1[:, ii].T) - ft1.T\n",
      "ii = c.nodes[0].maxvol_left[1]\n",
      "ft1 = reshape(ft, (10, -1))\n",
      "q = np.dot(ft1[ii, :], w1)\n",
      "#ft 10 x 100 = A * (4 x 100)\n",
      "cf = np.dot(np.linalg.pinv(w1), ft1.T)\n",
      "np.linalg.norm(np.dot(w1, cf) - ft1.T)"
     ],
     "language": "python",
     "metadata": {},
     "outputs": [
      {
       "metadata": {},
       "output_type": "pyout",
       "prompt_number": 11,
       "text": [
        "29.259520249868288"
       ]
      }
     ],
     "prompt_number": 11
    },
    {
     "cell_type": "code",
     "collapsed": false,
     "input": [
      "print reshape(ft1, (-1, 4))[:, c.nodes[2].maxvol_right[0]].shape\n",
      "print vadd.shape"
     ],
     "language": "python",
     "metadata": {},
     "outputs": [
      {
       "output_type": "stream",
       "stream": "stdout",
       "text": [
        "(8, 2)\n",
        "(8, 1)\n"
       ]
      }
     ],
     "prompt_number": 599
    },
    {
     "cell_type": "code",
     "collapsed": false,
     "input": [
      "reshape(c.nodes[2].vcore, (2, -1)).T[c.nodes[2].maxvol_right[0], :]\n",
      "w0 = reshape(c.nodes[1].vcore, (2, -1)).T\n",
      "ft1 = ft[:, :, :][:, :, c.nodes[2].maxvol_right[0]]\n",
      "ft1.shape\n",
      "ft1[1, :, :]\n",
      "#ft1 = reshape(ft1, (4, 8))\n",
      "#ft1 = ft1.T\n",
      "#np.dot(w0, ft1[jj, :]) - ft1"
     ],
     "language": "python",
     "metadata": {},
     "outputs": [
      {
       "metadata": {},
       "output_type": "pyout",
       "prompt_number": 668,
       "text": [
        "array([[ 8,  2],\n",
        "       [16,  4],\n",
        "       [24,  6],\n",
        "       [32,  8]])"
       ]
      }
     ],
     "prompt_number": 668
    },
    {
     "cell_type": "code",
     "collapsed": false,
     "input": [
      "ii = [15, 12]\n",
      "jj = [3, 0]\n",
      "print np.dot(w1, ft1[:, ii].T) - ft1.T\n",
      "#print np.dot(w2, ft2[:, jj].T) - ft2.T"
     ],
     "language": "python",
     "metadata": {},
     "outputs": [
      {
       "ename": "ValueError",
       "evalue": "matrices are not aligned",
       "output_type": "pyerr",
       "traceback": [
        "\u001b[0;31m---------------------------------------------------------------------------\u001b[0m\n\u001b[0;31mValueError\u001b[0m                                Traceback (most recent call last)",
        "\u001b[0;32m<ipython-input-560-f17378b2e393>\u001b[0m in \u001b[0;36m<module>\u001b[0;34m()\u001b[0m\n\u001b[1;32m      1\u001b[0m \u001b[0mii\u001b[0m \u001b[0;34m=\u001b[0m \u001b[0;34m[\u001b[0m\u001b[0;36m15\u001b[0m\u001b[0;34m,\u001b[0m \u001b[0;36m12\u001b[0m\u001b[0;34m,\u001b[0m \u001b[0;36m2\u001b[0m\u001b[0;34m]\u001b[0m\u001b[0;34m\u001b[0m\u001b[0m\n\u001b[1;32m      2\u001b[0m \u001b[0mjj\u001b[0m \u001b[0;34m=\u001b[0m \u001b[0;34m[\u001b[0m\u001b[0;36m3\u001b[0m\u001b[0;34m,\u001b[0m \u001b[0;36m0\u001b[0m\u001b[0;34m]\u001b[0m\u001b[0;34m\u001b[0m\u001b[0m\n\u001b[0;32m----> 3\u001b[0;31m \u001b[0;32mprint\u001b[0m \u001b[0mnp\u001b[0m\u001b[0;34m.\u001b[0m\u001b[0mdot\u001b[0m\u001b[0;34m(\u001b[0m\u001b[0mw1\u001b[0m\u001b[0;34m,\u001b[0m \u001b[0mft1\u001b[0m\u001b[0;34m[\u001b[0m\u001b[0;34m:\u001b[0m\u001b[0;34m,\u001b[0m \u001b[0mii\u001b[0m\u001b[0;34m]\u001b[0m\u001b[0;34m.\u001b[0m\u001b[0mT\u001b[0m\u001b[0;34m)\u001b[0m \u001b[0;34m-\u001b[0m \u001b[0mft1\u001b[0m\u001b[0;34m.\u001b[0m\u001b[0mT\u001b[0m\u001b[0;34m\u001b[0m\u001b[0m\n\u001b[0m\u001b[1;32m      4\u001b[0m \u001b[0;31m#print np.dot(w2, ft2[:, jj].T) - ft2.T\u001b[0m\u001b[0;34m\u001b[0m\u001b[0;34m\u001b[0m\u001b[0m\n",
        "\u001b[0;31mValueError\u001b[0m: matrices are not aligned"
       ]
      }
     ],
     "prompt_number": 560
    },
    {
     "cell_type": "code",
     "collapsed": false,
     "input": [
      "%debug"
     ],
     "language": "python",
     "metadata": {},
     "outputs": [
      {
       "output_type": "stream",
       "stream": "stdout",
       "text": [
        "> \u001b[0;32m/Users/ivan/anaconda/lib/python2.7/site-packages/numpy/lib/shape_base.py\u001b[0m(751)\u001b[0;36mkron\u001b[0;34m()\u001b[0m\n",
        "\u001b[0;32m    750 \u001b[0;31m    \u001b[0;32mfor\u001b[0m \u001b[0m_\u001b[0m \u001b[0;32min\u001b[0m \u001b[0mrange\u001b[0m\u001b[0;34m(\u001b[0m\u001b[0mnd\u001b[0m\u001b[0;34m)\u001b[0m\u001b[0;34m:\u001b[0m\u001b[0;34m\u001b[0m\u001b[0m\n",
        "\u001b[0m\u001b[0;32m--> 751 \u001b[0;31m        \u001b[0mresult\u001b[0m \u001b[0;34m=\u001b[0m \u001b[0mconcatenate\u001b[0m\u001b[0;34m(\u001b[0m\u001b[0mresult\u001b[0m\u001b[0;34m,\u001b[0m \u001b[0maxis\u001b[0m\u001b[0;34m=\u001b[0m\u001b[0maxis\u001b[0m\u001b[0;34m)\u001b[0m\u001b[0;34m\u001b[0m\u001b[0m\n",
        "\u001b[0m\u001b[0;32m    752 \u001b[0;31m    \u001b[0mwrapper\u001b[0m \u001b[0;34m=\u001b[0m \u001b[0mget_array_prepare\u001b[0m\u001b[0;34m(\u001b[0m\u001b[0ma\u001b[0m\u001b[0;34m,\u001b[0m \u001b[0mb\u001b[0m\u001b[0;34m)\u001b[0m\u001b[0;34m\u001b[0m\u001b[0m\n",
        "\u001b[0m\n"
       ]
      },
      {
       "name": "stdout",
       "output_type": "stream",
       "stream": "stdout",
       "text": [
        "ipdb> up\n"
       ]
      },
      {
       "output_type": "stream",
       "stream": "stdout",
       "text": [
        "> \u001b[0;32m<ipython-input-507-8bcc8cf8f16e>\u001b[0m(14)\u001b[0;36mmkron\u001b[0;34m()\u001b[0m\n",
        "\u001b[0;32m     13 \u001b[0;31m\u001b[0;32mdef\u001b[0m \u001b[0mmkron\u001b[0m\u001b[0;34m(\u001b[0m\u001b[0ma\u001b[0m\u001b[0;34m,\u001b[0m \u001b[0mb\u001b[0m\u001b[0;34m)\u001b[0m\u001b[0;34m:\u001b[0m\u001b[0;34m\u001b[0m\u001b[0m\n",
        "\u001b[0m\u001b[0;32m---> 14 \u001b[0;31m    \u001b[0;32mreturn\u001b[0m \u001b[0mnp\u001b[0m\u001b[0;34m.\u001b[0m\u001b[0mkron\u001b[0m\u001b[0;34m(\u001b[0m\u001b[0ma\u001b[0m\u001b[0;34m,\u001b[0m \u001b[0mb\u001b[0m\u001b[0;34m)\u001b[0m\u001b[0;34m\u001b[0m\u001b[0m\n",
        "\u001b[0m\u001b[0;32m     15 \u001b[0;31m\u001b[0;34m\u001b[0m\u001b[0m\n",
        "\u001b[0m\n"
       ]
      },
      {
       "name": "stdout",
       "output_type": "stream",
       "stream": "stdout",
       "text": [
        "ipdb> up\n"
       ]
      },
      {
       "output_type": "stream",
       "stream": "stdout",
       "text": [
        "> \u001b[0;32m<ipython-input-683-656c5c973553>\u001b[0m(158)\u001b[0;36mcompute_vadd\u001b[0;34m()\u001b[0m\n",
        "\u001b[0;32m    157 \u001b[0;31m    \u001b[0;31m#w2 = mkron(np.ones((radd * n, 1), dtype=np.int32), i_right)\u001b[0m\u001b[0;34m\u001b[0m\u001b[0;34m\u001b[0m\u001b[0m\n",
        "\u001b[0m\u001b[0;32m--> 158 \u001b[0;31m    \u001b[0mw2\u001b[0m \u001b[0;34m=\u001b[0m \u001b[0mmkron\u001b[0m\u001b[0;34m(\u001b[0m\u001b[0mi_right\u001b[0m\u001b[0;34m,\u001b[0m \u001b[0mnp\u001b[0m\u001b[0;34m.\u001b[0m\u001b[0mones\u001b[0m\u001b[0;34m(\u001b[0m\u001b[0;34m(\u001b[0m\u001b[0mradd\u001b[0m \u001b[0;34m*\u001b[0m \u001b[0mn\u001b[0m\u001b[0;34m,\u001b[0m \u001b[0;36m1\u001b[0m\u001b[0;34m)\u001b[0m\u001b[0;34m,\u001b[0m \u001b[0mdtype\u001b[0m\u001b[0;34m=\u001b[0m\u001b[0mnp\u001b[0m\u001b[0;34m.\u001b[0m\u001b[0mint32\u001b[0m\u001b[0;34m)\u001b[0m\u001b[0;34m)\u001b[0m\u001b[0;34m\u001b[0m\u001b[0m\n",
        "\u001b[0m\u001b[0;32m    159 \u001b[0;31m    \u001b[0mp\u001b[0m \u001b[0;34m=\u001b[0m \u001b[0mnp\u001b[0m\u001b[0;34m.\u001b[0m\u001b[0marange\u001b[0m\u001b[0;34m(\u001b[0m\u001b[0mn\u001b[0m\u001b[0;34m,\u001b[0m \u001b[0mdtype\u001b[0m\u001b[0;34m=\u001b[0m\u001b[0mnp\u001b[0m\u001b[0;34m.\u001b[0m\u001b[0mint32\u001b[0m\u001b[0;34m)\u001b[0m\u001b[0;34m;\u001b[0m \u001b[0mp\u001b[0m \u001b[0;34m=\u001b[0m \u001b[0mreshape\u001b[0m\u001b[0;34m(\u001b[0m\u001b[0mp\u001b[0m\u001b[0;34m,\u001b[0m \u001b[0;34m(\u001b[0m\u001b[0;34m-\u001b[0m\u001b[0;36m1\u001b[0m\u001b[0;34m,\u001b[0m \u001b[0;36m1\u001b[0m\u001b[0;34m)\u001b[0m\u001b[0;34m)\u001b[0m\u001b[0;34m\u001b[0m\u001b[0m\n",
        "\u001b[0m\n"
       ]
      },
      {
       "name": "stdout",
       "output_type": "stream",
       "stream": "stdout",
       "text": [
        "ipdb> p w2.shape\n"
       ]
      },
      {
       "output_type": "stream",
       "stream": "stdout",
       "text": [
        "(4, 3)\n"
       ]
      },
      {
       "name": "stdout",
       "output_type": "stream",
       "stream": "stdout",
       "text": [
        "ipdb> p i_right.shape\n"
       ]
      },
      {
       "output_type": "stream",
       "stream": "stdout",
       "text": [
        "(1, 0)\n"
       ]
      },
      {
       "name": "stdout",
       "output_type": "stream",
       "stream": "stdout",
       "text": [
        "ipdb> q\n"
       ]
      }
     ],
     "prompt_number": 686
    },
    {
     "cell_type": "code",
     "collapsed": false,
     "input": [
      "q = c.nodes[0]\n",
      "print q.maxvol_left\n",
      "\n",
      "vadd = [[  8.],\n",
      " [  4.],\n",
      " [ 24.],\n",
      " [  8.],\n",
      " [  8.],\n",
      " [  4.],\n",
      " [ 24.],\n",
      " [  8.]]\n",
      "vadd = np.array(vadd)\n",
      "print vadd.shape\n",
      "#print np.dot(w1, ft1[:, ii].T) - ft1.T"
     ],
     "language": "python",
     "metadata": {},
     "outputs": [
      {
       "output_type": "stream",
       "stream": "stdout",
       "text": [
        "(array([0, 0]), array([3, 0]))\n",
        "(8, 1)\n"
       ]
      }
     ],
     "prompt_number": 542
    },
    {
     "cell_type": "code",
     "collapsed": false,
     "input": [
      "%debug"
     ],
     "language": "python",
     "metadata": {},
     "outputs": [
      {
       "output_type": "stream",
       "stream": "stdout",
       "text": [
        "> \u001b[0;32m/Users/ivan/anaconda/lib/python2.7/site-packages/numpy/linalg/linalg.py\u001b[0m(222)\u001b[0;36m_assertNoEmpty2d\u001b[0;34m()\u001b[0m\n",
        "\u001b[0;32m    221 \u001b[0;31m        \u001b[0;32mif\u001b[0m \u001b[0ma\u001b[0m\u001b[0;34m.\u001b[0m\u001b[0msize\u001b[0m \u001b[0;34m==\u001b[0m \u001b[0;36m0\u001b[0m \u001b[0;32mand\u001b[0m \u001b[0mproduct\u001b[0m\u001b[0;34m(\u001b[0m\u001b[0ma\u001b[0m\u001b[0;34m.\u001b[0m\u001b[0mshape\u001b[0m\u001b[0;34m[\u001b[0m\u001b[0;34m-\u001b[0m\u001b[0;36m2\u001b[0m\u001b[0;34m:\u001b[0m\u001b[0;34m]\u001b[0m\u001b[0;34m)\u001b[0m \u001b[0;34m==\u001b[0m \u001b[0;36m0\u001b[0m\u001b[0;34m:\u001b[0m\u001b[0;34m\u001b[0m\u001b[0m\n",
        "\u001b[0m\u001b[0;32m--> 222 \u001b[0;31m            \u001b[0;32mraise\u001b[0m \u001b[0mLinAlgError\u001b[0m\u001b[0;34m(\u001b[0m\u001b[0;34m\"Arrays cannot be empty\"\u001b[0m\u001b[0;34m)\u001b[0m\u001b[0;34m\u001b[0m\u001b[0m\n",
        "\u001b[0m\u001b[0;32m    223 \u001b[0;31m\u001b[0;34m\u001b[0m\u001b[0m\n",
        "\u001b[0m\n"
       ]
      },
      {
       "name": "stdout",
       "output_type": "stream",
       "stream": "stdout",
       "text": [
        "ipdb> up\n"
       ]
      },
      {
       "output_type": "stream",
       "stream": "stdout",
       "text": [
        "> \u001b[0;32m/Users/ivan/anaconda/lib/python2.7/site-packages/numpy/linalg/linalg.py\u001b[0m(740)\u001b[0;36mqr\u001b[0;34m()\u001b[0m\n",
        "\u001b[0;32m    739 \u001b[0;31m    \u001b[0m_assertRank2\u001b[0m\u001b[0;34m(\u001b[0m\u001b[0ma\u001b[0m\u001b[0;34m)\u001b[0m\u001b[0;34m\u001b[0m\u001b[0m\n",
        "\u001b[0m\u001b[0;32m--> 740 \u001b[0;31m    \u001b[0m_assertNoEmpty2d\u001b[0m\u001b[0;34m(\u001b[0m\u001b[0ma\u001b[0m\u001b[0;34m)\u001b[0m\u001b[0;34m\u001b[0m\u001b[0m\n",
        "\u001b[0m\u001b[0;32m    741 \u001b[0;31m    \u001b[0mm\u001b[0m\u001b[0;34m,\u001b[0m \u001b[0mn\u001b[0m \u001b[0;34m=\u001b[0m \u001b[0ma\u001b[0m\u001b[0;34m.\u001b[0m\u001b[0mshape\u001b[0m\u001b[0;34m\u001b[0m\u001b[0m\n",
        "\u001b[0m\n"
       ]
      },
      {
       "name": "stdout",
       "output_type": "stream",
       "stream": "stdout",
       "text": [
        "ipdb> up\n"
       ]
      },
      {
       "output_type": "stream",
       "stream": "stdout",
       "text": [
        "> \u001b[0;32m<ipython-input-703-0cf2fdacedf0>\u001b[0m(106)\u001b[0;36mcompute_uadd\u001b[0;34m()\u001b[0m\n",
        "\u001b[0;32m    105 \u001b[0;31m    \u001b[0mc1\u001b[0m \u001b[0;34m=\u001b[0m \u001b[0mcomp_u\u001b[0m\u001b[0;34m[\u001b[0m\u001b[0mifilt\u001b[0m\u001b[0;34m,\u001b[0m \u001b[0;34m:\u001b[0m\u001b[0;34m]\u001b[0m\u001b[0;34m\u001b[0m\u001b[0m\n",
        "\u001b[0m\u001b[0;32m--> 106 \u001b[0;31m    \u001b[0mc1\u001b[0m\u001b[0;34m,\u001b[0m \u001b[0mtmp\u001b[0m \u001b[0;34m=\u001b[0m \u001b[0mnp\u001b[0m\u001b[0;34m.\u001b[0m\u001b[0mlinalg\u001b[0m\u001b[0;34m.\u001b[0m\u001b[0mqr\u001b[0m\u001b[0;34m(\u001b[0m\u001b[0mc1\u001b[0m\u001b[0;34m)\u001b[0m\u001b[0;34m\u001b[0m\u001b[0m\n",
        "\u001b[0m\u001b[0;32m    107 \u001b[0;31m    \u001b[0mcomp_u\u001b[0m\u001b[0;34m[\u001b[0m\u001b[0mifilt\u001b[0m\u001b[0;34m,\u001b[0m \u001b[0;34m:\u001b[0m\u001b[0;34m]\u001b[0m \u001b[0;34m=\u001b[0m \u001b[0mc1\u001b[0m\u001b[0;34m\u001b[0m\u001b[0m\n",
        "\u001b[0m\n"
       ]
      },
      {
       "name": "stdout",
       "output_type": "stream",
       "stream": "stdout",
       "text": [
        "ipdb> p c1\n"
       ]
      },
      {
       "output_type": "stream",
       "stream": "stdout",
       "text": [
        "array([], shape=(0, 1), dtype=float64)\n"
       ]
      },
      {
       "name": "stdout",
       "output_type": "stream",
       "stream": "stdout",
       "text": [
        "ipdb> up\n"
       ]
      },
      {
       "output_type": "stream",
       "stream": "stdout",
       "text": [
        "> \u001b[0;32m<ipython-input-703-0cf2fdacedf0>\u001b[0m(248)\u001b[0;36miterate\u001b[0;34m()\u001b[0m\n",
        "\u001b[0;32m    247 \u001b[0;31m                \u001b[0;32mpass\u001b[0m\u001b[0;34m\u001b[0m\u001b[0m\n",
        "\u001b[0m\u001b[0;32m--> 248 \u001b[0;31m            \u001b[0mcompute_uadd\u001b[0m\u001b[0;34m(\u001b[0m\u001b[0mc\u001b[0m\u001b[0;34m.\u001b[0m\u001b[0mnodes\u001b[0m\u001b[0;34m[\u001b[0m\u001b[0mi\u001b[0m\u001b[0;34m]\u001b[0m\u001b[0;34m)\u001b[0m\u001b[0;34m\u001b[0m\u001b[0m\n",
        "\u001b[0m\u001b[0;32m    249 \u001b[0;31m            \u001b[0;32mtry\u001b[0m\u001b[0;34m:\u001b[0m\u001b[0;34m\u001b[0m\u001b[0m\n",
        "\u001b[0m\n"
       ]
      },
      {
       "name": "stdout",
       "output_type": "stream",
       "stream": "stdout",
       "text": [
        "ipdb> q\n"
       ]
      }
     ],
     "prompt_number": 706
    },
    {
     "cell_type": "code",
     "collapsed": false,
     "input": [],
     "language": "python",
     "metadata": {},
     "outputs": []
    }
   ],
   "metadata": {}
  }
 ]
}